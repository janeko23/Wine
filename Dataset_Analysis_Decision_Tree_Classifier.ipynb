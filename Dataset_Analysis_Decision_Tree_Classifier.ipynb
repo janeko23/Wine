{
  "nbformat": 4,
  "nbformat_minor": 0,
  "metadata": {
    "colab": {
      "name": "Dataset Analysis Decision Tree Classifier.ipynb",
      "provenance": []
    },
    "kernelspec": {
      "name": "python3",
      "display_name": "Python 3"
    },
    "language_info": {
      "name": "python"
    }
  },
  "cells": [
    {
      "cell_type": "markdown",
      "metadata": {
        "id": "5Hwmdb1Brs5N"
      },
      "source": [
        "<p style = \"font-size : 50px; color : #000000 ; font-family : 'Comic Sans MS'; text-align : center; background-color : #ff0000; border-radius: 5px 5px;\"><strong>🍷 Red Wine Quality Analysis</strong></p>\n",
        "\n",
        "Con el siguiente conjuntos de datos aplicaremos Algoritmos de clasificación o regresión. Las clases están ordenadas y no equilibradas (por ejemplo, hay vinos buenos o malos)."
      ]
    },
    {
      "cell_type": "markdown",
      "metadata": {
        "id": "F4XEMg0RtBpE"
      },
      "source": [
        "# Importing Libraries "
      ]
    },
    {
      "cell_type": "code",
      "metadata": {
        "id": "CJnHoJ4Hrmwb"
      },
      "source": [
        "\n",
        "# For Data Manipulation\n",
        "import pandas as pd\n",
        "import numpy as np\n",
        "import sklearn as s\n",
        "import seaborn as sns\n",
        "import matplotlib.pyplot as plt\n",
        "from matplotlib.colors import ListedColormap\n",
        "import math\n",
        "from itertools import cycle\n",
        "\n",
        "# For Data Preprocessing\n",
        "from sklearn.model_selection import train_test_split\n",
        "from sklearn.preprocessing import StandardScaler\n",
        "from sklearn import metrics\n",
        "# Decision Tree Classifier \n",
        "from sklearn.tree import DecisionTreeClassifier \n",
        "from sklearn.model_selection import GridSearchCV\n",
        "from sklearn.multiclass import OneVsRestClassifier\n",
        "\n",
        "# For Classification Results\n",
        "from sklearn.metrics import accuracy_score, precision_score, recall_score, roc_auc_score\n",
        "from sklearn.metrics import classification_report\n",
        "from sklearn.metrics import confusion_matrix\n",
        "from sklearn.metrics import roc_curve, auc\n",
        "from sklearn.metrics import plot_roc_curve\n",
        "from sklearn.preprocessing import label_binarize\n",
        "from scipy import interp\n",
        "from sklearn.exceptions import NotFittedError\n",
        "from sklearn.model_selection import learning_curve\n",
        "from sklearn.metrics import accuracy_score\n",
        "from sklearn.model_selection import StratifiedKFold\n",
        "\n",
        "#Bibliotecas para generar gráficos\n",
        "from sklearn.tree import export_graphviz\n",
        "from six import StringIO\n",
        "from IPython.display import Image  \n",
        "import pydotplus\n",
        "%matplotlib inline\n",
        "import warnings\n",
        "warnings.simplefilter(action=\"ignore\")"
      ],
      "execution_count": 1,
      "outputs": []
    },
    {
      "cell_type": "markdown",
      "metadata": {
        "papermill": {
          "duration": 0.026915,
          "end_time": "2021-06-27T18:36:05.121873",
          "exception": false,
          "start_time": "2021-06-27T18:36:05.094958",
          "status": "completed"
        },
        "tags": [],
        "id": "significant-aluminum"
      },
      "source": [
        "# Loading the dataset"
      ]
    },
    {
      "cell_type": "code",
      "metadata": {
        "execution": {
          "iopub.execute_input": "2021-06-27T18:36:05.178569Z",
          "iopub.status.busy": "2021-06-27T18:36:05.177864Z",
          "iopub.status.idle": "2021-06-27T18:36:05.199900Z",
          "shell.execute_reply": "2021-06-27T18:36:05.200494Z",
          "shell.execute_reply.started": "2021-06-13T11:47:01.906462Z"
        },
        "id": "brutal-local",
        "papermill": {
          "duration": 0.052076,
          "end_time": "2021-06-27T18:36:05.200676",
          "exception": false,
          "start_time": "2021-06-27T18:36:05.148600",
          "status": "completed"
        },
        "tags": []
      },
      "source": [
        "wine = pd.read_csv('/content/drive/MyDrive/IA/winequality-red.csv')"
      ],
      "execution_count": 2,
      "outputs": []
    },
    {
      "cell_type": "markdown",
      "metadata": {
        "id": "3U04VEAft1Kb"
      },
      "source": [
        "<a id = '3.1'></a>\n",
        "<p style = \"font-size : 35px; color :#000080 ; font-family : 'Comic Sans MS'; text-align : center; background-color : #808080; border-radius: 5px 5px;\"><strong>Variable Description</strong></p>"
      ]
    },
    {
      "cell_type": "markdown",
      "metadata": {
        "id": "5RKJeJ71ubDF"
      },
      "source": [
        "\n",
        "<ol>\n",
        "    <li style = \"color:darkred\"> <p style = \"color:black;font-family:Comic Sans MS\" > <strong>fixed acidity : </strong> most acids involved with wine or fixed or nonvolatile (do not evaporate readily) </p> </li>\n",
        "        <li style = \"color:darkred\"> <p style = \"color:black;font-family:Comic Sans MS\" > <strong>volatile acidity : </strong>the amount of acetic acid in wine, which at too high of levels can lead to an unpleasant, vinegar taste</p> </li>\n",
        "        <li style = \"color:darkred\"> <p style = \"color:black;font-family:Comic Sans MS\" > <strong>citric acid : </strong> found in small quantities, citric acid can add 'freshness' and flavor to wines</p> </li>\n",
        "        <li style = \"color:darkred\"> <p style = \"color:black;font-family:Comic Sans MS\" > <strong>residual sugar : </strong>the amount of sugar remaining after fermentation stops, it's rare to find wines with less than 1 gram/liter and wines with greater than 45 grams/liter are considered sweet </p> </li>\n",
        "        <li style = \"color:darkred\"> <p style = \"color:black;font-family:Comic Sans MS\" > <strong>chlorides : </strong> the amount of salt in the wine</p> </li>\n",
        "        <li style = \"color:darkred\"> <p style = \"color:black;font-family:Comic Sans MS\" > <strong>free sulfur dioxide : </strong> the free form of SO2 exists in equilibrium between molecular SO2 (as a dissolved gas) and bisulfite ion; it prevents microbial growth and the oxidation of wine </p> </li>\n",
        "        <li style = \"color:darkred\"> <p style = \"color:black;font-family:Comic Sans MS\" > <strong>total sulfur dioxide : </strong> amount of free and bound forms of S02; in low concentrations, SO2 is mostly undetectable in wine, but at free SO2 concentrations over 50 ppm, SO2 becomes evident in the nose and taste of wine</p> </li>\n",
        "    <li style = \"color:darkred\"> <p style = \"color:black;font-family:Comic Sans MS\" > <strong>density : </strong>the density of water is close to that of water depending on the percent alcohol and sugar content </p> </li>\n",
        "        <li style = \"color:darkred\"> <p style = \"color:black;font-family:Comic Sans MS\" > <strong>ph : </strong>  describes how acidic or basic a wine is on a scale from 0 (very acidic) to 14 (very basic); most wines are between 3-4 on the pH scale </p> </li>\n",
        "        <li style = \"color:darkred\"> <p style = \"color:black;font-family:Comic Sans MS\" > <strong>sulphates : </strong> a wine additive which can contribute to sulfur dioxide gas (S02) levels, wich acts as an antimicrobial and antioxidant </p> </li>\n",
        "        <li style = \"color:darkred\"> <p style = \"color:black;font-family:Comic Sans MS\" > <strong>alcohol sulfur dioxide : </strong> the percent alcohol content of the wine </p> </li>\n",
        "            <li style = \"color:darkred\"> <p style = \"color:black;font-family:Comic Sans MS\" > <strong>quality : </strong> output variable (based on sensory data, score between 0 and 10)</p> </li>"
      ]
    },
    {
      "cell_type": "markdown",
      "metadata": {
        "papermill": {
          "duration": 0.026367,
          "end_time": "2021-06-27T18:36:05.306459",
          "exception": false,
          "start_time": "2021-06-27T18:36:05.280092",
          "status": "completed"
        },
        "tags": [],
        "id": "neither-metabolism"
      },
      "source": [
        "![giphy.gif](https://media.giphy.com/media/ng6NcNAvohN6M/giphy.gif)"
      ]
    },
    {
      "cell_type": "markdown",
      "metadata": {
        "id": "billion-remark",
        "papermill": {
          "duration": 0.026091,
          "end_time": "2021-06-27T18:36:05.253378",
          "exception": false,
          "start_time": "2021-06-27T18:36:05.227287",
          "status": "completed"
        },
        "tags": []
      },
      "source": [
        "# Exploratory Data Analysis (EDA)"
      ]
    },
    {
      "cell_type": "code",
      "metadata": {
        "colab": {
          "base_uri": "https://localhost:8080/",
          "height": 360
        },
        "id": "s-WzkrCEtmDs",
        "outputId": "6dacdd8b-df54-4caf-8d27-d79eb8f62097"
      },
      "source": [
        "wine.head(10)"
      ],
      "execution_count": null,
      "outputs": [
        {
          "output_type": "execute_result",
          "data": {
            "text/html": [
              "<div>\n",
              "<style scoped>\n",
              "    .dataframe tbody tr th:only-of-type {\n",
              "        vertical-align: middle;\n",
              "    }\n",
              "\n",
              "    .dataframe tbody tr th {\n",
              "        vertical-align: top;\n",
              "    }\n",
              "\n",
              "    .dataframe thead th {\n",
              "        text-align: right;\n",
              "    }\n",
              "</style>\n",
              "<table border=\"1\" class=\"dataframe\">\n",
              "  <thead>\n",
              "    <tr style=\"text-align: right;\">\n",
              "      <th></th>\n",
              "      <th>fixed acidity</th>\n",
              "      <th>volatile acidity</th>\n",
              "      <th>citric acid</th>\n",
              "      <th>residual sugar</th>\n",
              "      <th>chlorides</th>\n",
              "      <th>free sulfur dioxide</th>\n",
              "      <th>total sulfur dioxide</th>\n",
              "      <th>density</th>\n",
              "      <th>pH</th>\n",
              "      <th>sulphates</th>\n",
              "      <th>alcohol</th>\n",
              "      <th>quality</th>\n",
              "    </tr>\n",
              "  </thead>\n",
              "  <tbody>\n",
              "    <tr>\n",
              "      <th>0</th>\n",
              "      <td>7.4</td>\n",
              "      <td>0.70</td>\n",
              "      <td>0.00</td>\n",
              "      <td>1.9</td>\n",
              "      <td>0.076</td>\n",
              "      <td>11.0</td>\n",
              "      <td>34.0</td>\n",
              "      <td>0.9978</td>\n",
              "      <td>3.51</td>\n",
              "      <td>0.56</td>\n",
              "      <td>9.4</td>\n",
              "      <td>5</td>\n",
              "    </tr>\n",
              "    <tr>\n",
              "      <th>1</th>\n",
              "      <td>7.8</td>\n",
              "      <td>0.88</td>\n",
              "      <td>0.00</td>\n",
              "      <td>2.6</td>\n",
              "      <td>0.098</td>\n",
              "      <td>25.0</td>\n",
              "      <td>67.0</td>\n",
              "      <td>0.9968</td>\n",
              "      <td>3.20</td>\n",
              "      <td>0.68</td>\n",
              "      <td>9.8</td>\n",
              "      <td>5</td>\n",
              "    </tr>\n",
              "    <tr>\n",
              "      <th>2</th>\n",
              "      <td>7.8</td>\n",
              "      <td>0.76</td>\n",
              "      <td>0.04</td>\n",
              "      <td>2.3</td>\n",
              "      <td>0.092</td>\n",
              "      <td>15.0</td>\n",
              "      <td>54.0</td>\n",
              "      <td>0.9970</td>\n",
              "      <td>3.26</td>\n",
              "      <td>0.65</td>\n",
              "      <td>9.8</td>\n",
              "      <td>5</td>\n",
              "    </tr>\n",
              "    <tr>\n",
              "      <th>3</th>\n",
              "      <td>11.2</td>\n",
              "      <td>0.28</td>\n",
              "      <td>0.56</td>\n",
              "      <td>1.9</td>\n",
              "      <td>0.075</td>\n",
              "      <td>17.0</td>\n",
              "      <td>60.0</td>\n",
              "      <td>0.9980</td>\n",
              "      <td>3.16</td>\n",
              "      <td>0.58</td>\n",
              "      <td>9.8</td>\n",
              "      <td>6</td>\n",
              "    </tr>\n",
              "    <tr>\n",
              "      <th>4</th>\n",
              "      <td>7.4</td>\n",
              "      <td>0.70</td>\n",
              "      <td>0.00</td>\n",
              "      <td>1.9</td>\n",
              "      <td>0.076</td>\n",
              "      <td>11.0</td>\n",
              "      <td>34.0</td>\n",
              "      <td>0.9978</td>\n",
              "      <td>3.51</td>\n",
              "      <td>0.56</td>\n",
              "      <td>9.4</td>\n",
              "      <td>5</td>\n",
              "    </tr>\n",
              "    <tr>\n",
              "      <th>5</th>\n",
              "      <td>7.4</td>\n",
              "      <td>0.66</td>\n",
              "      <td>0.00</td>\n",
              "      <td>1.8</td>\n",
              "      <td>0.075</td>\n",
              "      <td>13.0</td>\n",
              "      <td>40.0</td>\n",
              "      <td>0.9978</td>\n",
              "      <td>3.51</td>\n",
              "      <td>0.56</td>\n",
              "      <td>9.4</td>\n",
              "      <td>5</td>\n",
              "    </tr>\n",
              "    <tr>\n",
              "      <th>6</th>\n",
              "      <td>7.9</td>\n",
              "      <td>0.60</td>\n",
              "      <td>0.06</td>\n",
              "      <td>1.6</td>\n",
              "      <td>0.069</td>\n",
              "      <td>15.0</td>\n",
              "      <td>59.0</td>\n",
              "      <td>0.9964</td>\n",
              "      <td>3.30</td>\n",
              "      <td>0.46</td>\n",
              "      <td>9.4</td>\n",
              "      <td>5</td>\n",
              "    </tr>\n",
              "    <tr>\n",
              "      <th>7</th>\n",
              "      <td>7.3</td>\n",
              "      <td>0.65</td>\n",
              "      <td>0.00</td>\n",
              "      <td>1.2</td>\n",
              "      <td>0.065</td>\n",
              "      <td>15.0</td>\n",
              "      <td>21.0</td>\n",
              "      <td>0.9946</td>\n",
              "      <td>3.39</td>\n",
              "      <td>0.47</td>\n",
              "      <td>10.0</td>\n",
              "      <td>7</td>\n",
              "    </tr>\n",
              "    <tr>\n",
              "      <th>8</th>\n",
              "      <td>7.8</td>\n",
              "      <td>0.58</td>\n",
              "      <td>0.02</td>\n",
              "      <td>2.0</td>\n",
              "      <td>0.073</td>\n",
              "      <td>9.0</td>\n",
              "      <td>18.0</td>\n",
              "      <td>0.9968</td>\n",
              "      <td>3.36</td>\n",
              "      <td>0.57</td>\n",
              "      <td>9.5</td>\n",
              "      <td>7</td>\n",
              "    </tr>\n",
              "    <tr>\n",
              "      <th>9</th>\n",
              "      <td>7.5</td>\n",
              "      <td>0.50</td>\n",
              "      <td>0.36</td>\n",
              "      <td>6.1</td>\n",
              "      <td>0.071</td>\n",
              "      <td>17.0</td>\n",
              "      <td>102.0</td>\n",
              "      <td>0.9978</td>\n",
              "      <td>3.35</td>\n",
              "      <td>0.80</td>\n",
              "      <td>10.5</td>\n",
              "      <td>5</td>\n",
              "    </tr>\n",
              "  </tbody>\n",
              "</table>\n",
              "</div>"
            ],
            "text/plain": [
              "   fixed acidity  volatile acidity  citric acid  ...  sulphates  alcohol  quality\n",
              "0            7.4              0.70         0.00  ...       0.56      9.4        5\n",
              "1            7.8              0.88         0.00  ...       0.68      9.8        5\n",
              "2            7.8              0.76         0.04  ...       0.65      9.8        5\n",
              "3           11.2              0.28         0.56  ...       0.58      9.8        6\n",
              "4            7.4              0.70         0.00  ...       0.56      9.4        5\n",
              "5            7.4              0.66         0.00  ...       0.56      9.4        5\n",
              "6            7.9              0.60         0.06  ...       0.46      9.4        5\n",
              "7            7.3              0.65         0.00  ...       0.47     10.0        7\n",
              "8            7.8              0.58         0.02  ...       0.57      9.5        7\n",
              "9            7.5              0.50         0.36  ...       0.80     10.5        5\n",
              "\n",
              "[10 rows x 12 columns]"
            ]
          },
          "metadata": {
            "tags": []
          },
          "execution_count": 6
        }
      ]
    },
    {
      "cell_type": "markdown",
      "metadata": {
        "id": "affecting-attitude"
      },
      "source": [
        "# Definir etiquetas de Bueno o malo\n",
        "\n",
        "\n",
        "\n"
      ]
    },
    {
      "cell_type": "code",
      "metadata": {
        "id": "disturbed-nebraska"
      },
      "source": [
        "def convert_quali (quality):\n",
        "    if quality <= 5:\n",
        "        return 0\n",
        "    else:\n",
        "        return 1"
      ],
      "execution_count": 3,
      "outputs": []
    },
    {
      "cell_type": "markdown",
      "metadata": {
        "id": "characteristic-circle"
      },
      "source": [
        "Bueno = 1\n",
        "Malo = 0"
      ]
    },
    {
      "cell_type": "code",
      "metadata": {
        "id": "bronze-point"
      },
      "source": [
        "wine[\"quality_bin\"] = wine[\"quality\"].apply(convert_quali)"
      ],
      "execution_count": 4,
      "outputs": []
    },
    {
      "cell_type": "code",
      "metadata": {
        "colab": {
          "base_uri": "https://localhost:8080/",
          "height": 0
        },
        "id": "professional-catalyst",
        "outputId": "13399bd0-06c3-4514-a218-4d862c69c009"
      },
      "source": [
        "wine.head()"
      ],
      "execution_count": 5,
      "outputs": [
        {
          "output_type": "execute_result",
          "data": {
            "text/html": [
              "<div>\n",
              "<style scoped>\n",
              "    .dataframe tbody tr th:only-of-type {\n",
              "        vertical-align: middle;\n",
              "    }\n",
              "\n",
              "    .dataframe tbody tr th {\n",
              "        vertical-align: top;\n",
              "    }\n",
              "\n",
              "    .dataframe thead th {\n",
              "        text-align: right;\n",
              "    }\n",
              "</style>\n",
              "<table border=\"1\" class=\"dataframe\">\n",
              "  <thead>\n",
              "    <tr style=\"text-align: right;\">\n",
              "      <th></th>\n",
              "      <th>fixed acidity</th>\n",
              "      <th>volatile acidity</th>\n",
              "      <th>citric acid</th>\n",
              "      <th>residual sugar</th>\n",
              "      <th>chlorides</th>\n",
              "      <th>free sulfur dioxide</th>\n",
              "      <th>total sulfur dioxide</th>\n",
              "      <th>density</th>\n",
              "      <th>pH</th>\n",
              "      <th>sulphates</th>\n",
              "      <th>alcohol</th>\n",
              "      <th>quality</th>\n",
              "      <th>quality_bin</th>\n",
              "    </tr>\n",
              "  </thead>\n",
              "  <tbody>\n",
              "    <tr>\n",
              "      <th>0</th>\n",
              "      <td>7.4</td>\n",
              "      <td>0.70</td>\n",
              "      <td>0.00</td>\n",
              "      <td>1.9</td>\n",
              "      <td>0.076</td>\n",
              "      <td>11.0</td>\n",
              "      <td>34.0</td>\n",
              "      <td>0.9978</td>\n",
              "      <td>3.51</td>\n",
              "      <td>0.56</td>\n",
              "      <td>9.4</td>\n",
              "      <td>5</td>\n",
              "      <td>0</td>\n",
              "    </tr>\n",
              "    <tr>\n",
              "      <th>1</th>\n",
              "      <td>7.8</td>\n",
              "      <td>0.88</td>\n",
              "      <td>0.00</td>\n",
              "      <td>2.6</td>\n",
              "      <td>0.098</td>\n",
              "      <td>25.0</td>\n",
              "      <td>67.0</td>\n",
              "      <td>0.9968</td>\n",
              "      <td>3.20</td>\n",
              "      <td>0.68</td>\n",
              "      <td>9.8</td>\n",
              "      <td>5</td>\n",
              "      <td>0</td>\n",
              "    </tr>\n",
              "    <tr>\n",
              "      <th>2</th>\n",
              "      <td>7.8</td>\n",
              "      <td>0.76</td>\n",
              "      <td>0.04</td>\n",
              "      <td>2.3</td>\n",
              "      <td>0.092</td>\n",
              "      <td>15.0</td>\n",
              "      <td>54.0</td>\n",
              "      <td>0.9970</td>\n",
              "      <td>3.26</td>\n",
              "      <td>0.65</td>\n",
              "      <td>9.8</td>\n",
              "      <td>5</td>\n",
              "      <td>0</td>\n",
              "    </tr>\n",
              "    <tr>\n",
              "      <th>3</th>\n",
              "      <td>11.2</td>\n",
              "      <td>0.28</td>\n",
              "      <td>0.56</td>\n",
              "      <td>1.9</td>\n",
              "      <td>0.075</td>\n",
              "      <td>17.0</td>\n",
              "      <td>60.0</td>\n",
              "      <td>0.9980</td>\n",
              "      <td>3.16</td>\n",
              "      <td>0.58</td>\n",
              "      <td>9.8</td>\n",
              "      <td>6</td>\n",
              "      <td>1</td>\n",
              "    </tr>\n",
              "    <tr>\n",
              "      <th>4</th>\n",
              "      <td>7.4</td>\n",
              "      <td>0.70</td>\n",
              "      <td>0.00</td>\n",
              "      <td>1.9</td>\n",
              "      <td>0.076</td>\n",
              "      <td>11.0</td>\n",
              "      <td>34.0</td>\n",
              "      <td>0.9978</td>\n",
              "      <td>3.51</td>\n",
              "      <td>0.56</td>\n",
              "      <td>9.4</td>\n",
              "      <td>5</td>\n",
              "      <td>0</td>\n",
              "    </tr>\n",
              "  </tbody>\n",
              "</table>\n",
              "</div>"
            ],
            "text/plain": [
              "   fixed acidity  volatile acidity  citric acid  ...  alcohol  quality  quality_bin\n",
              "0            7.4              0.70         0.00  ...      9.4        5            0\n",
              "1            7.8              0.88         0.00  ...      9.8        5            0\n",
              "2            7.8              0.76         0.04  ...      9.8        5            0\n",
              "3           11.2              0.28         0.56  ...      9.8        6            1\n",
              "4            7.4              0.70         0.00  ...      9.4        5            0\n",
              "\n",
              "[5 rows x 13 columns]"
            ]
          },
          "metadata": {
            "tags": []
          },
          "execution_count": 5
        }
      ]
    },
    {
      "cell_type": "code",
      "metadata": {
        "execution": {
          "iopub.execute_input": "2021-03-30T10:16:53.769429Z",
          "iopub.status.busy": "2021-03-30T10:16:53.768527Z",
          "iopub.status.idle": "2021-03-30T10:16:53.771683Z",
          "shell.execute_reply": "2021-03-30T10:16:53.772216Z"
        },
        "papermill": {
          "duration": 0.069214,
          "end_time": "2021-03-30T10:16:53.772371",
          "exception": false,
          "start_time": "2021-03-30T10:16:53.703157",
          "status": "completed"
        },
        "tags": [],
        "id": "FXt7FE0S3Hh5",
        "colab": {
          "base_uri": "https://localhost:8080/"
        },
        "outputId": "a84ebbc5-b6c5-4491-d0a0-cd5b7ff5f8b6"
      },
      "source": [
        "features = wine.columns[:-2]\n",
        "output = wine.columns[-1]\n",
        "print(\"Features: \\n{}, \\n\\nLabels: \\n{}\".format(features.values,output))"
      ],
      "execution_count": 6,
      "outputs": [
        {
          "output_type": "stream",
          "text": [
            "Features: \n",
            "['fixed acidity' 'volatile acidity' 'citric acid' 'residual sugar'\n",
            " 'chlorides' 'free sulfur dioxide' 'total sulfur dioxide' 'density' 'pH'\n",
            " 'sulphates' 'alcohol'], \n",
            "\n",
            "Labels: \n",
            "quality_bin\n"
          ],
          "name": "stdout"
        }
      ]
    },
    {
      "cell_type": "markdown",
      "metadata": {
        "papermill": {
          "duration": 0.067669,
          "end_time": "2021-03-30T10:16:57.037798",
          "exception": false,
          "start_time": "2021-03-30T10:16:56.970129",
          "status": "completed"
        },
        "tags": [],
        "id": "4mrlDwQj3Hh7"
      },
      "source": [
        "## Data Splitting"
      ]
    },
    {
      "cell_type": "code",
      "metadata": {
        "execution": {
          "iopub.execute_input": "2021-03-30T10:16:57.181197Z",
          "iopub.status.busy": "2021-03-30T10:16:57.180187Z",
          "iopub.status.idle": "2021-03-30T10:16:57.183617Z",
          "shell.execute_reply": "2021-03-30T10:16:57.183048Z"
        },
        "papermill": {
          "duration": 0.078506,
          "end_time": "2021-03-30T10:16:57.183724",
          "exception": false,
          "start_time": "2021-03-30T10:16:57.105218",
          "status": "completed"
        },
        "tags": [],
        "id": "5EmWDfUz3Hh7"
      },
      "source": [
        "X = wine[features].values\n",
        "y = wine[output].values"
      ],
      "execution_count": 7,
      "outputs": []
    },
    {
      "cell_type": "code",
      "metadata": {
        "execution": {
          "iopub.execute_input": "2021-03-30T10:16:57.325800Z",
          "iopub.status.busy": "2021-03-30T10:16:57.325063Z",
          "iopub.status.idle": "2021-03-30T10:16:57.329379Z",
          "shell.execute_reply": "2021-03-30T10:16:57.328869Z"
        },
        "papermill": {
          "duration": 0.077978,
          "end_time": "2021-03-30T10:16:57.329496",
          "exception": false,
          "start_time": "2021-03-30T10:16:57.251518",
          "status": "completed"
        },
        "tags": [],
        "id": "BinZcVby3Hh7",
        "colab": {
          "base_uri": "https://localhost:8080/"
        },
        "outputId": "0c647c16-e1cb-4985-c111-1b4d0f781bdd"
      },
      "source": [
        "X_train, X_test, y_train, y_test = train_test_split(X,y, test_size=0.30)\n",
        "print('Training size: {}, Testing size: {}'.format(X_train.size,X_test.size))"
      ],
      "execution_count": 8,
      "outputs": [
        {
          "output_type": "stream",
          "text": [
            "Training size: 12309, Testing size: 5280\n"
          ],
          "name": "stdout"
        }
      ]
    },
    {
      "cell_type": "code",
      "metadata": {
        "id": "precious-assignment"
      },
      "source": [
        "X = wine.drop([\"quality\" ,\"quality_bin\"] , axis=1)\n",
        "y = wine['quality_bin']\n"
      ],
      "execution_count": 9,
      "outputs": []
    },
    {
      "cell_type": "code",
      "metadata": {
        "colab": {
          "base_uri": "https://localhost:8080/"
        },
        "id": "caVweczgVBJC",
        "outputId": "ceadfe0e-9a24-49d4-9abb-d00b308655c5"
      },
      "source": [
        "wine['quality_bin'].value_counts()"
      ],
      "execution_count": 10,
      "outputs": [
        {
          "output_type": "execute_result",
          "data": {
            "text/plain": [
              "1    855\n",
              "0    744\n",
              "Name: quality_bin, dtype: int64"
            ]
          },
          "metadata": {
            "tags": []
          },
          "execution_count": 10
        }
      ]
    },
    {
      "cell_type": "markdown",
      "metadata": {
        "id": "0LKaWeerWHap"
      },
      "source": [
        "# Functions for Analysing Results"
      ]
    },
    {
      "cell_type": "markdown",
      "metadata": {
        "id": "_XYngxtFWHar"
      },
      "source": [
        "## Probability Output"
      ]
    },
    {
      "cell_type": "code",
      "metadata": {
        "id": "i5YAOwCaWHas"
      },
      "source": [
        "def get_probabilty_output(X_test, model_fitted, value_count=10):\n",
        "    def highlight_max(data, color='yellow'):\n",
        "        attr = 'background-color: {}'.format(color)\n",
        "        if data.ndim == 1:  # Series from .apply(axis=0) or axis=1\n",
        "            is_max = data == data.max()\n",
        "            return [attr if v else '' for v in is_max]\n",
        "        else:  # from .apply(axis=None)\n",
        "            is_max = data == data.max().max()\n",
        "            return pd.DataFrame(np.where(is_max, attr, ''), index=data.index, columns=data.columns)\n",
        "        \n",
        "    y_scores = model_fitted.predict_proba(X_test)\n",
        "    prob_df = pd.DataFrame(y_scores*100).head(value_count)\n",
        "    styled_df = prob_df.style.background_gradient(cmap='Reds')\n",
        "    styled_df = styled_df.highlight_max(axis=1, color='green')\n",
        "    return styled_df"
      ],
      "execution_count": 20,
      "outputs": []
    },
    {
      "cell_type": "markdown",
      "metadata": {
        "id": "2v5eZbUfue2q"
      },
      "source": [
        "\n",
        "# **Decision tree**\n"
      ]
    },
    {
      "cell_type": "code",
      "metadata": {
        "id": "eqzGyq1xue2r"
      },
      "source": [
        "#En \"x\" guardamos el resto. Con la función drop, eliminamos a \"malware\"\n",
        "feature_cols = wine.columns.drop([\"quality\" ,\"quality_bin\"])\n"
      ],
      "execution_count": 26,
      "outputs": []
    },
    {
      "cell_type": "code",
      "metadata": {
        "id": "5HeWauuVue2r"
      },
      "source": [
        "X = wine[feature_cols] # Features\n",
        "y = wine['quality_bin'] # Target variable"
      ],
      "execution_count": 27,
      "outputs": []
    },
    {
      "cell_type": "code",
      "metadata": {
        "id": "QLjZ5tfnue2r"
      },
      "source": [
        "#  Dividimos al conjunto de datos en entrenamiento y testeot\n",
        "X_train, X_test, y_train, y_test = train_test_split(X, y, test_size=0.3, random_state=0) "
      ],
      "execution_count": 28,
      "outputs": []
    },
    {
      "cell_type": "markdown",
      "metadata": {
        "id": "YLyheJnoue2s"
      },
      "source": [
        "##  Construimos el clasificador"
      ]
    },
    {
      "cell_type": "code",
      "metadata": {
        "id": "o5zAX0Jfue2s"
      },
      "source": [
        "# Create Decision Tree classifer object\n",
        "#clf = DecisionTreeClassifier()\n",
        "\n",
        "#Optimization Decision Tree\n",
        "arbolDecision = DecisionTreeClassifier(criterion=\"gini\", max_depth=2)\n",
        "\n",
        "# Train Decision Tree Classifer\n",
        "arbolDecision = arbolDecision.fit(X_train,y_train)\n",
        "\n",
        "#Predict the response for test dataset\n",
        "y_pred = arbolDecision.predict(X_test)"
      ],
      "execution_count": 29,
      "outputs": []
    },
    {
      "cell_type": "markdown",
      "metadata": {
        "id": "DuIMfghgue2s"
      },
      "source": [
        "##  Métricas"
      ]
    },
    {
      "cell_type": "code",
      "metadata": {
        "colab": {
          "base_uri": "https://localhost:8080/"
        },
        "id": "RUm_VHPWue2s",
        "outputId": "c3e4af49-edd0-4f6e-d638-7652f207c382"
      },
      "source": [
        " print(\"Accuracy:\",metrics.accuracy_score(y_test, y_pred))"
      ],
      "execution_count": 30,
      "outputs": [
        {
          "output_type": "stream",
          "text": [
            "Accuracy: 0.7166666666666667\n"
          ],
          "name": "stdout"
        }
      ]
    },
    {
      "cell_type": "code",
      "metadata": {
        "colab": {
          "base_uri": "https://localhost:8080/"
        },
        "id": "oVni8qPdue2t",
        "outputId": "deda4fcf-0469-4c9c-9d5f-3a5f667fe337"
      },
      "source": [
        "print('Mean Absolute Error:', metrics.mean_absolute_error(y_test, y_pred))"
      ],
      "execution_count": 31,
      "outputs": [
        {
          "output_type": "stream",
          "text": [
            "Mean Absolute Error: 0.2833333333333333\n"
          ],
          "name": "stdout"
        }
      ]
    },
    {
      "cell_type": "code",
      "metadata": {
        "id": "A6tnr4KFue2t"
      },
      "source": [
        "parameters_DT = {\n",
        "    'criterion':('gini','entropy'),\n",
        "    'max_features': ('auto','sqrt','log2')\n",
        "}\n",
        "model_DT = DecisionTreeClassifier()\n",
        "model_DT_with_best_params = GridSearchCV(model_DT, parameters_DT)\n",
        "model_DT_with_best_params.fit(X_train,y_train)\n",
        "model_DT_best_params = model_DT_with_best_params.best_params_\n"
      ],
      "execution_count": 32,
      "outputs": []
    },
    {
      "cell_type": "code",
      "metadata": {
        "colab": {
          "base_uri": "https://localhost:8080/",
          "height": 250
        },
        "id": "VdwANj8mue2u",
        "outputId": "814a5ed5-0965-40c3-efa3-b409d1870a6c"
      },
      "source": [
        "get_probabilty_output(X_test=X_test, model_fitted=model_DT_with_best_params)"
      ],
      "execution_count": 33,
      "outputs": [
        {
          "output_type": "execute_result",
          "data": {
            "text/html": [
              "<style  type=\"text/css\" >\n",
              "#T_2f933d68_e754_11eb_8ecc_0242ac1c0002row0_col0,#T_2f933d68_e754_11eb_8ecc_0242ac1c0002row1_col1,#T_2f933d68_e754_11eb_8ecc_0242ac1c0002row2_col1,#T_2f933d68_e754_11eb_8ecc_0242ac1c0002row3_col0,#T_2f933d68_e754_11eb_8ecc_0242ac1c0002row4_col0,#T_2f933d68_e754_11eb_8ecc_0242ac1c0002row5_col1,#T_2f933d68_e754_11eb_8ecc_0242ac1c0002row6_col0,#T_2f933d68_e754_11eb_8ecc_0242ac1c0002row7_col1,#T_2f933d68_e754_11eb_8ecc_0242ac1c0002row8_col0,#T_2f933d68_e754_11eb_8ecc_0242ac1c0002row9_col0{\n",
              "            background-color:  #67000d;\n",
              "            color:  #f1f1f1;\n",
              "            background-color:  green;\n",
              "        }#T_2f933d68_e754_11eb_8ecc_0242ac1c0002row0_col1,#T_2f933d68_e754_11eb_8ecc_0242ac1c0002row1_col0,#T_2f933d68_e754_11eb_8ecc_0242ac1c0002row2_col0,#T_2f933d68_e754_11eb_8ecc_0242ac1c0002row3_col1,#T_2f933d68_e754_11eb_8ecc_0242ac1c0002row4_col1,#T_2f933d68_e754_11eb_8ecc_0242ac1c0002row5_col0,#T_2f933d68_e754_11eb_8ecc_0242ac1c0002row6_col1,#T_2f933d68_e754_11eb_8ecc_0242ac1c0002row7_col0,#T_2f933d68_e754_11eb_8ecc_0242ac1c0002row8_col1,#T_2f933d68_e754_11eb_8ecc_0242ac1c0002row9_col1{\n",
              "            background-color:  #fff5f0;\n",
              "            color:  #000000;\n",
              "        }</style><table id=\"T_2f933d68_e754_11eb_8ecc_0242ac1c0002\" ><thead>    <tr>        <th class=\"blank level0\" ></th>        <th class=\"col_heading level0 col0\" >0</th>        <th class=\"col_heading level0 col1\" >1</th>    </tr></thead><tbody>\n",
              "                <tr>\n",
              "                        <th id=\"T_2f933d68_e754_11eb_8ecc_0242ac1c0002level0_row0\" class=\"row_heading level0 row0\" >0</th>\n",
              "                        <td id=\"T_2f933d68_e754_11eb_8ecc_0242ac1c0002row0_col0\" class=\"data row0 col0\" >100.000000</td>\n",
              "                        <td id=\"T_2f933d68_e754_11eb_8ecc_0242ac1c0002row0_col1\" class=\"data row0 col1\" >0.000000</td>\n",
              "            </tr>\n",
              "            <tr>\n",
              "                        <th id=\"T_2f933d68_e754_11eb_8ecc_0242ac1c0002level0_row1\" class=\"row_heading level0 row1\" >1</th>\n",
              "                        <td id=\"T_2f933d68_e754_11eb_8ecc_0242ac1c0002row1_col0\" class=\"data row1 col0\" >0.000000</td>\n",
              "                        <td id=\"T_2f933d68_e754_11eb_8ecc_0242ac1c0002row1_col1\" class=\"data row1 col1\" >100.000000</td>\n",
              "            </tr>\n",
              "            <tr>\n",
              "                        <th id=\"T_2f933d68_e754_11eb_8ecc_0242ac1c0002level0_row2\" class=\"row_heading level0 row2\" >2</th>\n",
              "                        <td id=\"T_2f933d68_e754_11eb_8ecc_0242ac1c0002row2_col0\" class=\"data row2 col0\" >0.000000</td>\n",
              "                        <td id=\"T_2f933d68_e754_11eb_8ecc_0242ac1c0002row2_col1\" class=\"data row2 col1\" >100.000000</td>\n",
              "            </tr>\n",
              "            <tr>\n",
              "                        <th id=\"T_2f933d68_e754_11eb_8ecc_0242ac1c0002level0_row3\" class=\"row_heading level0 row3\" >3</th>\n",
              "                        <td id=\"T_2f933d68_e754_11eb_8ecc_0242ac1c0002row3_col0\" class=\"data row3 col0\" >100.000000</td>\n",
              "                        <td id=\"T_2f933d68_e754_11eb_8ecc_0242ac1c0002row3_col1\" class=\"data row3 col1\" >0.000000</td>\n",
              "            </tr>\n",
              "            <tr>\n",
              "                        <th id=\"T_2f933d68_e754_11eb_8ecc_0242ac1c0002level0_row4\" class=\"row_heading level0 row4\" >4</th>\n",
              "                        <td id=\"T_2f933d68_e754_11eb_8ecc_0242ac1c0002row4_col0\" class=\"data row4 col0\" >100.000000</td>\n",
              "                        <td id=\"T_2f933d68_e754_11eb_8ecc_0242ac1c0002row4_col1\" class=\"data row4 col1\" >0.000000</td>\n",
              "            </tr>\n",
              "            <tr>\n",
              "                        <th id=\"T_2f933d68_e754_11eb_8ecc_0242ac1c0002level0_row5\" class=\"row_heading level0 row5\" >5</th>\n",
              "                        <td id=\"T_2f933d68_e754_11eb_8ecc_0242ac1c0002row5_col0\" class=\"data row5 col0\" >0.000000</td>\n",
              "                        <td id=\"T_2f933d68_e754_11eb_8ecc_0242ac1c0002row5_col1\" class=\"data row5 col1\" >100.000000</td>\n",
              "            </tr>\n",
              "            <tr>\n",
              "                        <th id=\"T_2f933d68_e754_11eb_8ecc_0242ac1c0002level0_row6\" class=\"row_heading level0 row6\" >6</th>\n",
              "                        <td id=\"T_2f933d68_e754_11eb_8ecc_0242ac1c0002row6_col0\" class=\"data row6 col0\" >100.000000</td>\n",
              "                        <td id=\"T_2f933d68_e754_11eb_8ecc_0242ac1c0002row6_col1\" class=\"data row6 col1\" >0.000000</td>\n",
              "            </tr>\n",
              "            <tr>\n",
              "                        <th id=\"T_2f933d68_e754_11eb_8ecc_0242ac1c0002level0_row7\" class=\"row_heading level0 row7\" >7</th>\n",
              "                        <td id=\"T_2f933d68_e754_11eb_8ecc_0242ac1c0002row7_col0\" class=\"data row7 col0\" >0.000000</td>\n",
              "                        <td id=\"T_2f933d68_e754_11eb_8ecc_0242ac1c0002row7_col1\" class=\"data row7 col1\" >100.000000</td>\n",
              "            </tr>\n",
              "            <tr>\n",
              "                        <th id=\"T_2f933d68_e754_11eb_8ecc_0242ac1c0002level0_row8\" class=\"row_heading level0 row8\" >8</th>\n",
              "                        <td id=\"T_2f933d68_e754_11eb_8ecc_0242ac1c0002row8_col0\" class=\"data row8 col0\" >100.000000</td>\n",
              "                        <td id=\"T_2f933d68_e754_11eb_8ecc_0242ac1c0002row8_col1\" class=\"data row8 col1\" >0.000000</td>\n",
              "            </tr>\n",
              "            <tr>\n",
              "                        <th id=\"T_2f933d68_e754_11eb_8ecc_0242ac1c0002level0_row9\" class=\"row_heading level0 row9\" >9</th>\n",
              "                        <td id=\"T_2f933d68_e754_11eb_8ecc_0242ac1c0002row9_col0\" class=\"data row9 col0\" >100.000000</td>\n",
              "                        <td id=\"T_2f933d68_e754_11eb_8ecc_0242ac1c0002row9_col1\" class=\"data row9 col1\" >0.000000</td>\n",
              "            </tr>\n",
              "    </tbody></table>"
            ],
            "text/plain": [
              "<pandas.io.formats.style.Styler at 0x7f285035c0d0>"
            ]
          },
          "metadata": {
            "tags": []
          },
          "execution_count": 33
        }
      ]
    },
    {
      "cell_type": "code",
      "metadata": {
        "colab": {
          "base_uri": "https://localhost:8080/",
          "height": 449
        },
        "id": "u_s6nGxuhRp6",
        "outputId": "1eb2ae4a-0b86-4726-8462-d003eff0a0c2"
      },
      "source": [
        "matrixDecision = confusion_matrix(y_test, y_pred) \n",
        "# Summary of the predictions made by the classifier\n",
        "print(classification_report(y_test, y_pred))\n",
        "# Accuracy score\n",
        "print('Accuracy: %.2f' % accuracy_score(y_pred,y_test))\n",
        "\n",
        "sns.heatmap(matrixDecision.T, square=True, annot=True, fmt='d', cbar=False)\n",
        "plt.xlabel('Clase de test')\n",
        "plt.ylabel('Clase de la predicción');"
      ],
      "execution_count": 34,
      "outputs": [
        {
          "output_type": "stream",
          "text": [
            "              precision    recall  f1-score   support\n",
            "\n",
            "           0       0.70      0.69      0.70       226\n",
            "           1       0.73      0.74      0.73       254\n",
            "\n",
            "    accuracy                           0.72       480\n",
            "   macro avg       0.72      0.72      0.72       480\n",
            "weighted avg       0.72      0.72      0.72       480\n",
            "\n",
            "Accuracy: 0.72\n"
          ],
          "name": "stdout"
        },
        {
          "output_type": "display_data",
          "data": {
            "image/png": "[encoded data removed]",
            "text/plain": [
              "<Figure size 432x288 with 1 Axes>"
            ]
          },
          "metadata": {
            "tags": [],
            "needs_background": "light"
          }
        }
      ]
    },
    {
      "cell_type": "markdown",
      "metadata": {
        "id": "7c1NT39Wue2u"
      },
      "source": [
        "##  Visualizando el árbol"
      ]
    },
    {
      "cell_type": "code",
      "metadata": {
        "colab": {
          "base_uri": "https://localhost:8080/",
          "height": 436
        },
        "id": "eIIwbrM2ue2u",
        "outputId": "628e8855-2314-4ca3-a369-4b62d8350840"
      },
      "source": [
        "dot_data = StringIO()\n",
        "\n",
        "export_graphviz(arbolDecision, out_file=dot_data,  \n",
        "                filled=True, rounded=True,\n",
        "                special_characters=True,feature_names = feature_cols,class_names=['0','1'])\n",
        "\n",
        "graph = pydotplus.graph_from_dot_data(dot_data.getvalue())  \n",
        "graph.write_png('Wine.png')\n",
        "Image(graph.create_png())"
      ],
      "execution_count": 35,
      "outputs": [
        {
          "output_type": "execute_result",
          "data": {
            "image/png": "[encoded data removed]",
            "text/plain": [
              "<IPython.core.display.Image object>"
            ]
          },
          "metadata": {
            "tags": []
          },
          "execution_count": 35
        }
      ]
    },
    {
      "cell_type": "markdown",
      "metadata": {
        "id": "V-VrWgLBue2v"
      },
      "source": [
        "RESUMEN\n",
        "- Accuracy: 0.7166666666666667 \n",
        "- Mean Absolute Error: 0.2833333333333333 "
      ]
    }
  ]
}