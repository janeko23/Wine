{
  "nbformat": 4,
  "nbformat_minor": 0,
  "metadata": {
    "colab": {
      "name": "Dataset Analysis Naive Bayes Classifier.ipynb",
      "provenance": []
    },
    "kernelspec": {
      "name": "python3",
      "display_name": "Python 3"
    },
    "language_info": {
      "name": "python"
    }
  },
  "cells": [
    {
      "cell_type": "markdown",
      "metadata": {
        "id": "5Hwmdb1Brs5N"
      },
      "source": [
        "<p style = \"font-size : 50px; color : #000000 ; font-family : 'Comic Sans MS'; text-align : center; background-color : #ff0000; border-radius: 5px 5px;\"><strong>🍷 Red Wine Quality Analysis</strong></p>\n",
        "\n",
        "Con el siguiente conjuntos de datos aplicaremos Algoritmos de clasificación o regresión. Las clases están ordenadas y no equilibradas (por ejemplo, hay vinos buenos o malos)."
      ]
    },
    {
      "cell_type": "markdown",
      "metadata": {
        "id": "F4XEMg0RtBpE"
      },
      "source": [
        "# Importing Libraries "
      ]
    },
    {
      "cell_type": "code",
      "metadata": {
        "id": "CJnHoJ4Hrmwb"
      },
      "source": [
        "\n",
        "# For Data Manipulation\n",
        "import pandas as pd\n",
        "import numpy as np\n",
        "import sklearn as s\n",
        "import seaborn as sns\n",
        "import matplotlib.pyplot as plt\n",
        "from matplotlib.colors import ListedColormap\n",
        "import math\n",
        "from itertools import cycle\n",
        "\n",
        "# For Data Preprocessing\n",
        "from sklearn.model_selection import train_test_split\n",
        "from sklearn.preprocessing import StandardScaler\n",
        "from sklearn import metrics\n",
        "\n",
        "#Naive Bayes\n",
        "# Naive Bayes\n",
        "from sklearn.naive_bayes import GaussianNB\n",
        "from sklearn.naive_bayes import MultinomialNB\n",
        "from sklearn.naive_bayes import BernoulliNB\n",
        "from sklearn.naive_bayes import ComplementNB\n",
        "\n",
        "# For Classification Results\n",
        "from sklearn.metrics import accuracy_score, precision_score, recall_score, roc_auc_score\n",
        "from sklearn.metrics import classification_report\n",
        "from sklearn.metrics import confusion_matrix\n",
        "from sklearn.metrics import roc_curve, auc\n",
        "from sklearn.metrics import plot_roc_curve\n",
        "from sklearn.preprocessing import label_binarize\n",
        "from scipy import interp\n",
        "from sklearn.exceptions import NotFittedError\n",
        "from sklearn.model_selection import learning_curve\n",
        "from sklearn.metrics import accuracy_score\n",
        "from sklearn.model_selection import StratifiedKFold"
      ],
      "execution_count": 1,
      "outputs": []
    },
    {
      "cell_type": "markdown",
      "metadata": {
        "papermill": {
          "duration": 0.026915,
          "end_time": "2021-06-27T18:36:05.121873",
          "exception": false,
          "start_time": "2021-06-27T18:36:05.094958",
          "status": "completed"
        },
        "tags": [],
        "id": "significant-aluminum"
      },
      "source": [
        "# Loading the dataset"
      ]
    },
    {
      "cell_type": "code",
      "metadata": {
        "execution": {
          "iopub.execute_input": "2021-06-27T18:36:05.178569Z",
          "iopub.status.busy": "2021-06-27T18:36:05.177864Z",
          "iopub.status.idle": "2021-06-27T18:36:05.199900Z",
          "shell.execute_reply": "2021-06-27T18:36:05.200494Z",
          "shell.execute_reply.started": "2021-06-13T11:47:01.906462Z"
        },
        "id": "brutal-local",
        "papermill": {
          "duration": 0.052076,
          "end_time": "2021-06-27T18:36:05.200676",
          "exception": false,
          "start_time": "2021-06-27T18:36:05.148600",
          "status": "completed"
        },
        "tags": []
      },
      "source": [
        "wine = pd.read_csv('/content/drive/MyDrive/IA/winequality-red.csv')"
      ],
      "execution_count": 3,
      "outputs": []
    },
    {
      "cell_type": "markdown",
      "metadata": {
        "id": "3U04VEAft1Kb"
      },
      "source": [
        "<a id = '3.1'></a>\n",
        "<p style = \"font-size : 35px; color :#000080 ; font-family : 'Comic Sans MS'; text-align : center; background-color : #808080; border-radius: 5px 5px;\"><strong>Variable Description</strong></p>"
      ]
    },
    {
      "cell_type": "markdown",
      "metadata": {
        "id": "5RKJeJ71ubDF"
      },
      "source": [
        "\n",
        "<ol>\n",
        "    <li style = \"color:darkred\"> <p style = \"color:black;font-family:Comic Sans MS\" > <strong>fixed acidity : </strong> most acids involved with wine or fixed or nonvolatile (do not evaporate readily) </p> </li>\n",
        "        <li style = \"color:darkred\"> <p style = \"color:black;font-family:Comic Sans MS\" > <strong>volatile acidity : </strong>the amount of acetic acid in wine, which at too high of levels can lead to an unpleasant, vinegar taste</p> </li>\n",
        "        <li style = \"color:darkred\"> <p style = \"color:black;font-family:Comic Sans MS\" > <strong>citric acid : </strong> found in small quantities, citric acid can add 'freshness' and flavor to wines</p> </li>\n",
        "        <li style = \"color:darkred\"> <p style = \"color:black;font-family:Comic Sans MS\" > <strong>residual sugar : </strong>the amount of sugar remaining after fermentation stops, it's rare to find wines with less than 1 gram/liter and wines with greater than 45 grams/liter are considered sweet </p> </li>\n",
        "        <li style = \"color:darkred\"> <p style = \"color:black;font-family:Comic Sans MS\" > <strong>chlorides : </strong> the amount of salt in the wine</p> </li>\n",
        "        <li style = \"color:darkred\"> <p style = \"color:black;font-family:Comic Sans MS\" > <strong>free sulfur dioxide : </strong> the free form of SO2 exists in equilibrium between molecular SO2 (as a dissolved gas) and bisulfite ion; it prevents microbial growth and the oxidation of wine </p> </li>\n",
        "        <li style = \"color:darkred\"> <p style = \"color:black;font-family:Comic Sans MS\" > <strong>total sulfur dioxide : </strong> amount of free and bound forms of S02; in low concentrations, SO2 is mostly undetectable in wine, but at free SO2 concentrations over 50 ppm, SO2 becomes evident in the nose and taste of wine</p> </li>\n",
        "    <li style = \"color:darkred\"> <p style = \"color:black;font-family:Comic Sans MS\" > <strong>density : </strong>the density of water is close to that of water depending on the percent alcohol and sugar content </p> </li>\n",
        "        <li style = \"color:darkred\"> <p style = \"color:black;font-family:Comic Sans MS\" > <strong>ph : </strong>  describes how acidic or basic a wine is on a scale from 0 (very acidic) to 14 (very basic); most wines are between 3-4 on the pH scale </p> </li>\n",
        "        <li style = \"color:darkred\"> <p style = \"color:black;font-family:Comic Sans MS\" > <strong>sulphates : </strong> a wine additive which can contribute to sulfur dioxide gas (S02) levels, wich acts as an antimicrobial and antioxidant </p> </li>\n",
        "        <li style = \"color:darkred\"> <p style = \"color:black;font-family:Comic Sans MS\" > <strong>alcohol sulfur dioxide : </strong> the percent alcohol content of the wine </p> </li>\n",
        "            <li style = \"color:darkred\"> <p style = \"color:black;font-family:Comic Sans MS\" > <strong>quality : </strong> output variable (based on sensory data, score between 0 and 10)</p> </li>"
      ]
    },
    {
      "cell_type": "markdown",
      "metadata": {
        "papermill": {
          "duration": 0.026367,
          "end_time": "2021-06-27T18:36:05.306459",
          "exception": false,
          "start_time": "2021-06-27T18:36:05.280092",
          "status": "completed"
        },
        "tags": [],
        "id": "neither-metabolism"
      },
      "source": [
        "![giphy.gif](https://media.giphy.com/media/ng6NcNAvohN6M/giphy.gif)"
      ]
    },
    {
      "cell_type": "markdown",
      "metadata": {
        "id": "billion-remark",
        "papermill": {
          "duration": 0.026091,
          "end_time": "2021-06-27T18:36:05.253378",
          "exception": false,
          "start_time": "2021-06-27T18:36:05.227287",
          "status": "completed"
        },
        "tags": []
      },
      "source": [
        "# Exploratory Data Analysis (EDA)"
      ]
    },
    {
      "cell_type": "code",
      "metadata": {
        "colab": {
          "base_uri": "https://localhost:8080/",
          "height": 360
        },
        "id": "s-WzkrCEtmDs",
        "outputId": "6dacdd8b-df54-4caf-8d27-d79eb8f62097"
      },
      "source": [
        "wine.head(10)"
      ],
      "execution_count": null,
      "outputs": [
        {
          "output_type": "execute_result",
          "data": {
            "text/html": [
              "<div>\n",
              "<style scoped>\n",
              "    .dataframe tbody tr th:only-of-type {\n",
              "        vertical-align: middle;\n",
              "    }\n",
              "\n",
              "    .dataframe tbody tr th {\n",
              "        vertical-align: top;\n",
              "    }\n",
              "\n",
              "    .dataframe thead th {\n",
              "        text-align: right;\n",
              "    }\n",
              "</style>\n",
              "<table border=\"1\" class=\"dataframe\">\n",
              "  <thead>\n",
              "    <tr style=\"text-align: right;\">\n",
              "      <th></th>\n",
              "      <th>fixed acidity</th>\n",
              "      <th>volatile acidity</th>\n",
              "      <th>citric acid</th>\n",
              "      <th>residual sugar</th>\n",
              "      <th>chlorides</th>\n",
              "      <th>free sulfur dioxide</th>\n",
              "      <th>total sulfur dioxide</th>\n",
              "      <th>density</th>\n",
              "      <th>pH</th>\n",
              "      <th>sulphates</th>\n",
              "      <th>alcohol</th>\n",
              "      <th>quality</th>\n",
              "    </tr>\n",
              "  </thead>\n",
              "  <tbody>\n",
              "    <tr>\n",
              "      <th>0</th>\n",
              "      <td>7.4</td>\n",
              "      <td>0.70</td>\n",
              "      <td>0.00</td>\n",
              "      <td>1.9</td>\n",
              "      <td>0.076</td>\n",
              "      <td>11.0</td>\n",
              "      <td>34.0</td>\n",
              "      <td>0.9978</td>\n",
              "      <td>3.51</td>\n",
              "      <td>0.56</td>\n",
              "      <td>9.4</td>\n",
              "      <td>5</td>\n",
              "    </tr>\n",
              "    <tr>\n",
              "      <th>1</th>\n",
              "      <td>7.8</td>\n",
              "      <td>0.88</td>\n",
              "      <td>0.00</td>\n",
              "      <td>2.6</td>\n",
              "      <td>0.098</td>\n",
              "      <td>25.0</td>\n",
              "      <td>67.0</td>\n",
              "      <td>0.9968</td>\n",
              "      <td>3.20</td>\n",
              "      <td>0.68</td>\n",
              "      <td>9.8</td>\n",
              "      <td>5</td>\n",
              "    </tr>\n",
              "    <tr>\n",
              "      <th>2</th>\n",
              "      <td>7.8</td>\n",
              "      <td>0.76</td>\n",
              "      <td>0.04</td>\n",
              "      <td>2.3</td>\n",
              "      <td>0.092</td>\n",
              "      <td>15.0</td>\n",
              "      <td>54.0</td>\n",
              "      <td>0.9970</td>\n",
              "      <td>3.26</td>\n",
              "      <td>0.65</td>\n",
              "      <td>9.8</td>\n",
              "      <td>5</td>\n",
              "    </tr>\n",
              "    <tr>\n",
              "      <th>3</th>\n",
              "      <td>11.2</td>\n",
              "      <td>0.28</td>\n",
              "      <td>0.56</td>\n",
              "      <td>1.9</td>\n",
              "      <td>0.075</td>\n",
              "      <td>17.0</td>\n",
              "      <td>60.0</td>\n",
              "      <td>0.9980</td>\n",
              "      <td>3.16</td>\n",
              "      <td>0.58</td>\n",
              "      <td>9.8</td>\n",
              "      <td>6</td>\n",
              "    </tr>\n",
              "    <tr>\n",
              "      <th>4</th>\n",
              "      <td>7.4</td>\n",
              "      <td>0.70</td>\n",
              "      <td>0.00</td>\n",
              "      <td>1.9</td>\n",
              "      <td>0.076</td>\n",
              "      <td>11.0</td>\n",
              "      <td>34.0</td>\n",
              "      <td>0.9978</td>\n",
              "      <td>3.51</td>\n",
              "      <td>0.56</td>\n",
              "      <td>9.4</td>\n",
              "      <td>5</td>\n",
              "    </tr>\n",
              "    <tr>\n",
              "      <th>5</th>\n",
              "      <td>7.4</td>\n",
              "      <td>0.66</td>\n",
              "      <td>0.00</td>\n",
              "      <td>1.8</td>\n",
              "      <td>0.075</td>\n",
              "      <td>13.0</td>\n",
              "      <td>40.0</td>\n",
              "      <td>0.9978</td>\n",
              "      <td>3.51</td>\n",
              "      <td>0.56</td>\n",
              "      <td>9.4</td>\n",
              "      <td>5</td>\n",
              "    </tr>\n",
              "    <tr>\n",
              "      <th>6</th>\n",
              "      <td>7.9</td>\n",
              "      <td>0.60</td>\n",
              "      <td>0.06</td>\n",
              "      <td>1.6</td>\n",
              "      <td>0.069</td>\n",
              "      <td>15.0</td>\n",
              "      <td>59.0</td>\n",
              "      <td>0.9964</td>\n",
              "      <td>3.30</td>\n",
              "      <td>0.46</td>\n",
              "      <td>9.4</td>\n",
              "      <td>5</td>\n",
              "    </tr>\n",
              "    <tr>\n",
              "      <th>7</th>\n",
              "      <td>7.3</td>\n",
              "      <td>0.65</td>\n",
              "      <td>0.00</td>\n",
              "      <td>1.2</td>\n",
              "      <td>0.065</td>\n",
              "      <td>15.0</td>\n",
              "      <td>21.0</td>\n",
              "      <td>0.9946</td>\n",
              "      <td>3.39</td>\n",
              "      <td>0.47</td>\n",
              "      <td>10.0</td>\n",
              "      <td>7</td>\n",
              "    </tr>\n",
              "    <tr>\n",
              "      <th>8</th>\n",
              "      <td>7.8</td>\n",
              "      <td>0.58</td>\n",
              "      <td>0.02</td>\n",
              "      <td>2.0</td>\n",
              "      <td>0.073</td>\n",
              "      <td>9.0</td>\n",
              "      <td>18.0</td>\n",
              "      <td>0.9968</td>\n",
              "      <td>3.36</td>\n",
              "      <td>0.57</td>\n",
              "      <td>9.5</td>\n",
              "      <td>7</td>\n",
              "    </tr>\n",
              "    <tr>\n",
              "      <th>9</th>\n",
              "      <td>7.5</td>\n",
              "      <td>0.50</td>\n",
              "      <td>0.36</td>\n",
              "      <td>6.1</td>\n",
              "      <td>0.071</td>\n",
              "      <td>17.0</td>\n",
              "      <td>102.0</td>\n",
              "      <td>0.9978</td>\n",
              "      <td>3.35</td>\n",
              "      <td>0.80</td>\n",
              "      <td>10.5</td>\n",
              "      <td>5</td>\n",
              "    </tr>\n",
              "  </tbody>\n",
              "</table>\n",
              "</div>"
            ],
            "text/plain": [
              "   fixed acidity  volatile acidity  citric acid  ...  sulphates  alcohol  quality\n",
              "0            7.4              0.70         0.00  ...       0.56      9.4        5\n",
              "1            7.8              0.88         0.00  ...       0.68      9.8        5\n",
              "2            7.8              0.76         0.04  ...       0.65      9.8        5\n",
              "3           11.2              0.28         0.56  ...       0.58      9.8        6\n",
              "4            7.4              0.70         0.00  ...       0.56      9.4        5\n",
              "5            7.4              0.66         0.00  ...       0.56      9.4        5\n",
              "6            7.9              0.60         0.06  ...       0.46      9.4        5\n",
              "7            7.3              0.65         0.00  ...       0.47     10.0        7\n",
              "8            7.8              0.58         0.02  ...       0.57      9.5        7\n",
              "9            7.5              0.50         0.36  ...       0.80     10.5        5\n",
              "\n",
              "[10 rows x 12 columns]"
            ]
          },
          "metadata": {
            "tags": []
          },
          "execution_count": 6
        }
      ]
    },
    {
      "cell_type": "markdown",
      "metadata": {
        "id": "affecting-attitude"
      },
      "source": [
        "# Definir etiquetas de Bueno o malo\n",
        "\n",
        "\n",
        "\n"
      ]
    },
    {
      "cell_type": "code",
      "metadata": {
        "id": "disturbed-nebraska"
      },
      "source": [
        "def convert_quali (quality):\n",
        "    if quality <= 5:\n",
        "        return 0\n",
        "    else:\n",
        "        return 1"
      ],
      "execution_count": 4,
      "outputs": []
    },
    {
      "cell_type": "markdown",
      "metadata": {
        "id": "characteristic-circle"
      },
      "source": [
        "Bueno = 1\n",
        "Malo = 0"
      ]
    },
    {
      "cell_type": "code",
      "metadata": {
        "id": "bronze-point"
      },
      "source": [
        "wine[\"quality_bin\"] = wine[\"quality\"].apply(convert_quali)"
      ],
      "execution_count": 5,
      "outputs": []
    },
    {
      "cell_type": "code",
      "metadata": {
        "colab": {
          "base_uri": "https://localhost:8080/",
          "height": 0
        },
        "id": "professional-catalyst",
        "outputId": "bd52bac0-a895-4103-b472-741f17efb694"
      },
      "source": [
        "wine.head()"
      ],
      "execution_count": 6,
      "outputs": [
        {
          "output_type": "execute_result",
          "data": {
            "text/html": [
              "<div>\n",
              "<style scoped>\n",
              "    .dataframe tbody tr th:only-of-type {\n",
              "        vertical-align: middle;\n",
              "    }\n",
              "\n",
              "    .dataframe tbody tr th {\n",
              "        vertical-align: top;\n",
              "    }\n",
              "\n",
              "    .dataframe thead th {\n",
              "        text-align: right;\n",
              "    }\n",
              "</style>\n",
              "<table border=\"1\" class=\"dataframe\">\n",
              "  <thead>\n",
              "    <tr style=\"text-align: right;\">\n",
              "      <th></th>\n",
              "      <th>fixed acidity</th>\n",
              "      <th>volatile acidity</th>\n",
              "      <th>citric acid</th>\n",
              "      <th>residual sugar</th>\n",
              "      <th>chlorides</th>\n",
              "      <th>free sulfur dioxide</th>\n",
              "      <th>total sulfur dioxide</th>\n",
              "      <th>density</th>\n",
              "      <th>pH</th>\n",
              "      <th>sulphates</th>\n",
              "      <th>alcohol</th>\n",
              "      <th>quality</th>\n",
              "      <th>quality_bin</th>\n",
              "    </tr>\n",
              "  </thead>\n",
              "  <tbody>\n",
              "    <tr>\n",
              "      <th>0</th>\n",
              "      <td>7.4</td>\n",
              "      <td>0.70</td>\n",
              "      <td>0.00</td>\n",
              "      <td>1.9</td>\n",
              "      <td>0.076</td>\n",
              "      <td>11.0</td>\n",
              "      <td>34.0</td>\n",
              "      <td>0.9978</td>\n",
              "      <td>3.51</td>\n",
              "      <td>0.56</td>\n",
              "      <td>9.4</td>\n",
              "      <td>5</td>\n",
              "      <td>0</td>\n",
              "    </tr>\n",
              "    <tr>\n",
              "      <th>1</th>\n",
              "      <td>7.8</td>\n",
              "      <td>0.88</td>\n",
              "      <td>0.00</td>\n",
              "      <td>2.6</td>\n",
              "      <td>0.098</td>\n",
              "      <td>25.0</td>\n",
              "      <td>67.0</td>\n",
              "      <td>0.9968</td>\n",
              "      <td>3.20</td>\n",
              "      <td>0.68</td>\n",
              "      <td>9.8</td>\n",
              "      <td>5</td>\n",
              "      <td>0</td>\n",
              "    </tr>\n",
              "    <tr>\n",
              "      <th>2</th>\n",
              "      <td>7.8</td>\n",
              "      <td>0.76</td>\n",
              "      <td>0.04</td>\n",
              "      <td>2.3</td>\n",
              "      <td>0.092</td>\n",
              "      <td>15.0</td>\n",
              "      <td>54.0</td>\n",
              "      <td>0.9970</td>\n",
              "      <td>3.26</td>\n",
              "      <td>0.65</td>\n",
              "      <td>9.8</td>\n",
              "      <td>5</td>\n",
              "      <td>0</td>\n",
              "    </tr>\n",
              "    <tr>\n",
              "      <th>3</th>\n",
              "      <td>11.2</td>\n",
              "      <td>0.28</td>\n",
              "      <td>0.56</td>\n",
              "      <td>1.9</td>\n",
              "      <td>0.075</td>\n",
              "      <td>17.0</td>\n",
              "      <td>60.0</td>\n",
              "      <td>0.9980</td>\n",
              "      <td>3.16</td>\n",
              "      <td>0.58</td>\n",
              "      <td>9.8</td>\n",
              "      <td>6</td>\n",
              "      <td>1</td>\n",
              "    </tr>\n",
              "    <tr>\n",
              "      <th>4</th>\n",
              "      <td>7.4</td>\n",
              "      <td>0.70</td>\n",
              "      <td>0.00</td>\n",
              "      <td>1.9</td>\n",
              "      <td>0.076</td>\n",
              "      <td>11.0</td>\n",
              "      <td>34.0</td>\n",
              "      <td>0.9978</td>\n",
              "      <td>3.51</td>\n",
              "      <td>0.56</td>\n",
              "      <td>9.4</td>\n",
              "      <td>5</td>\n",
              "      <td>0</td>\n",
              "    </tr>\n",
              "  </tbody>\n",
              "</table>\n",
              "</div>"
            ],
            "text/plain": [
              "   fixed acidity  volatile acidity  citric acid  ...  alcohol  quality  quality_bin\n",
              "0            7.4              0.70         0.00  ...      9.4        5            0\n",
              "1            7.8              0.88         0.00  ...      9.8        5            0\n",
              "2            7.8              0.76         0.04  ...      9.8        5            0\n",
              "3           11.2              0.28         0.56  ...      9.8        6            1\n",
              "4            7.4              0.70         0.00  ...      9.4        5            0\n",
              "\n",
              "[5 rows x 13 columns]"
            ]
          },
          "metadata": {
            "tags": []
          },
          "execution_count": 6
        }
      ]
    },
    {
      "cell_type": "code",
      "metadata": {
        "execution": {
          "iopub.execute_input": "2021-03-30T10:16:53.769429Z",
          "iopub.status.busy": "2021-03-30T10:16:53.768527Z",
          "iopub.status.idle": "2021-03-30T10:16:53.771683Z",
          "shell.execute_reply": "2021-03-30T10:16:53.772216Z"
        },
        "papermill": {
          "duration": 0.069214,
          "end_time": "2021-03-30T10:16:53.772371",
          "exception": false,
          "start_time": "2021-03-30T10:16:53.703157",
          "status": "completed"
        },
        "tags": [],
        "id": "FXt7FE0S3Hh5",
        "colab": {
          "base_uri": "https://localhost:8080/"
        },
        "outputId": "1e818ce0-1f40-4d02-cad1-440b74394274"
      },
      "source": [
        "features = wine.columns[:-2]\n",
        "output = wine.columns[-1]\n",
        "print(\"Features: \\n{}, \\n\\nLabels: \\n{}\".format(features.values,output))"
      ],
      "execution_count": 7,
      "outputs": [
        {
          "output_type": "stream",
          "text": [
            "Features: \n",
            "['fixed acidity' 'volatile acidity' 'citric acid' 'residual sugar'\n",
            " 'chlorides' 'free sulfur dioxide' 'total sulfur dioxide' 'density' 'pH'\n",
            " 'sulphates' 'alcohol'], \n",
            "\n",
            "Labels: \n",
            "quality_bin\n"
          ],
          "name": "stdout"
        }
      ]
    },
    {
      "cell_type": "markdown",
      "metadata": {
        "papermill": {
          "duration": 0.067669,
          "end_time": "2021-03-30T10:16:57.037798",
          "exception": false,
          "start_time": "2021-03-30T10:16:56.970129",
          "status": "completed"
        },
        "tags": [],
        "id": "4mrlDwQj3Hh7"
      },
      "source": [
        "## Data Splitting"
      ]
    },
    {
      "cell_type": "code",
      "metadata": {
        "execution": {
          "iopub.execute_input": "2021-03-30T10:16:57.181197Z",
          "iopub.status.busy": "2021-03-30T10:16:57.180187Z",
          "iopub.status.idle": "2021-03-30T10:16:57.183617Z",
          "shell.execute_reply": "2021-03-30T10:16:57.183048Z"
        },
        "papermill": {
          "duration": 0.078506,
          "end_time": "2021-03-30T10:16:57.183724",
          "exception": false,
          "start_time": "2021-03-30T10:16:57.105218",
          "status": "completed"
        },
        "tags": [],
        "id": "5EmWDfUz3Hh7"
      },
      "source": [
        "X = wine[features].values\n",
        "y = wine[output].values"
      ],
      "execution_count": 8,
      "outputs": []
    },
    {
      "cell_type": "code",
      "metadata": {
        "execution": {
          "iopub.execute_input": "2021-03-30T10:16:57.325800Z",
          "iopub.status.busy": "2021-03-30T10:16:57.325063Z",
          "iopub.status.idle": "2021-03-30T10:16:57.329379Z",
          "shell.execute_reply": "2021-03-30T10:16:57.328869Z"
        },
        "papermill": {
          "duration": 0.077978,
          "end_time": "2021-03-30T10:16:57.329496",
          "exception": false,
          "start_time": "2021-03-30T10:16:57.251518",
          "status": "completed"
        },
        "tags": [],
        "id": "BinZcVby3Hh7",
        "colab": {
          "base_uri": "https://localhost:8080/"
        },
        "outputId": "7113762a-bc05-43db-dd8c-2036dfa4dcb3"
      },
      "source": [
        "X_train, X_test, y_train, y_test = train_test_split(X,y, test_size=0.30)\n",
        "print('Training size: {}, Testing size: {}'.format(X_train.size,X_test.size))"
      ],
      "execution_count": 9,
      "outputs": [
        {
          "output_type": "stream",
          "text": [
            "Training size: 12309, Testing size: 5280\n"
          ],
          "name": "stdout"
        }
      ]
    },
    {
      "cell_type": "code",
      "metadata": {
        "id": "precious-assignment"
      },
      "source": [
        "X = wine.drop([\"quality\" ,\"quality_bin\"] , axis=1)\n",
        "y = wine['quality_bin']\n"
      ],
      "execution_count": 10,
      "outputs": []
    },
    {
      "cell_type": "code",
      "metadata": {
        "colab": {
          "base_uri": "https://localhost:8080/"
        },
        "id": "caVweczgVBJC",
        "outputId": "29a8468e-2de5-4dd0-c0cb-3576b238f39e"
      },
      "source": [
        "wine['quality_bin'].value_counts()"
      ],
      "execution_count": 11,
      "outputs": [
        {
          "output_type": "execute_result",
          "data": {
            "text/plain": [
              "1    855\n",
              "0    744\n",
              "Name: quality_bin, dtype: int64"
            ]
          },
          "metadata": {
            "tags": []
          },
          "execution_count": 11
        }
      ]
    },
    {
      "cell_type": "markdown",
      "metadata": {
        "id": "0LKaWeerWHap"
      },
      "source": [
        "# Functions for Analysing Results"
      ]
    },
    {
      "cell_type": "markdown",
      "metadata": {
        "id": "nL74bkGupW7B"
      },
      "source": [
        "## Classification ROC"
      ]
    },
    {
      "cell_type": "code",
      "metadata": {
        "id": "Ay_iwyp4pW7B"
      },
      "source": [
        "def get_classification_ROC(X,y,model,test_size,model_fitted=False,random_state=0):\n",
        "    \n",
        "    def check_fitted(clf): \n",
        "        return hasattr(clf, \"classes_\")\n",
        "    \n",
        "    if(len(np.unique(y)) == 2):\n",
        "        #Binary Classifier\n",
        "        if not check_fitted(model):\n",
        "            model = model.fit(X,y)\n",
        "        \n",
        "        plot_roc_curve(model, X, y)\n",
        "        y_score = model.predict_proba(X)[:, 1]\n",
        "        fpr, tpr, threshold = roc_curve(y, y_score)\n",
        "        auc = roc_auc_score(y, y_score)\n",
        "        return auc\n",
        "#         print(\"False Positive Rate: {} \\nTrue Positive Rate: {} \\nThreshold:{}\".format(fpr,tpr,threshold))\n",
        "    \n",
        "    else:\n",
        "        #Multiclass Classifier\n",
        "        y_bin = label_binarize(y, classes=np.unique(y))\n",
        "        n_classes = y_bin.shape[1]\n",
        "\n",
        "        # shuffle and split training and test sets\n",
        "        X_train, X_test, y_train, y_test = train_test_split(X, y_bin, test_size=test_size, random_state=random_state)\n",
        "\n",
        "        # Learn to predict each class against the other\n",
        "        classifier = OneVsRestClassifier(model)\n",
        "        model_fitted = classifier.fit(X_train, y_train)\n",
        "        try:\n",
        "            y_score = model_fitted.decision_function(X_test)\n",
        "        except:\n",
        "            y_score = model_fitted.predict_proba(X_test)\n",
        "\n",
        "\n",
        "\n",
        "        # Compute ROC curve and ROC area for each class\n",
        "        fpr = dict()\n",
        "        tpr = dict()\n",
        "        roc_auc = dict()\n",
        "        for i in range(n_classes):\n",
        "            fpr[i], tpr[i], _ = roc_curve(y_test[:, i], y_score[:, i])\n",
        "            roc_auc[i] = auc(fpr[i], tpr[i])\n",
        "\n",
        "\n",
        "        # Compute micro-average ROC curve and ROC area\n",
        "        fpr[\"micro\"], tpr[\"micro\"], _ = roc_curve(y_test.ravel(), y_score.ravel())\n",
        "        roc_auc[\"micro\"] = auc(fpr[\"micro\"], tpr[\"micro\"])\n",
        "\n",
        "\n",
        "        plt.figure()\n",
        "        lw = 2\n",
        "        plt.plot(fpr[2], tpr[2], color='darkorange',\n",
        "                 lw=lw, label='ROC curve (area = %0.2f)' % roc_auc[2])\n",
        "        plt.plot([0, 1], [0, 1], color='navy', lw=lw, linestyle='--')\n",
        "        plt.xlim([0.0, 1.0])\n",
        "        plt.ylim([0.0, 1.05])\n",
        "        plt.xlabel('False Positive Rate')\n",
        "        plt.ylabel('True Positive Rate')\n",
        "        plt.title('Receiver operating characteristic averaged')\n",
        "        plt.legend(loc=\"lower right\")\n",
        "        plt.show()\n",
        "\n",
        "\n",
        "\n",
        "        # First aggregate all false positive rates\n",
        "        all_fpr = np.unique(np.concatenate([fpr[i] for i in range(n_classes)]))\n",
        "\n",
        "        # Then interpolate all ROC curves at this points\n",
        "        mean_tpr = np.zeros_like(all_fpr)\n",
        "        for i in range(n_classes):\n",
        "            mean_tpr += interp(all_fpr, fpr[i], tpr[i])\n",
        "\n",
        "        # Finally average it and compute AUC\n",
        "        mean_tpr /= n_classes\n",
        "\n",
        "        fpr[\"macro\"] = all_fpr\n",
        "        tpr[\"macro\"] = mean_tpr\n",
        "        roc_auc[\"macro\"] = auc(fpr[\"macro\"], tpr[\"macro\"])\n",
        "\n",
        "        # Plot all ROC curves\n",
        "        plt.figure(figsize=(10,10))\n",
        "        plt.plot(fpr[\"micro\"], tpr[\"micro\"],\n",
        "                 label='micro-average ROC curve (area = {0:0.2f})'\n",
        "                       ''.format(roc_auc[\"micro\"]),\n",
        "                 color='deeppink', linestyle=':', linewidth=4)\n",
        "\n",
        "        plt.plot(fpr[\"macro\"], tpr[\"macro\"],\n",
        "                 label='macro-average ROC curve (area = {0:0.2f})'\n",
        "                       ''.format(roc_auc[\"macro\"]),\n",
        "                 color='navy', linestyle=':', linewidth=4)\n",
        "\n",
        "        colors = cycle(['aqua', 'darkorange', 'cornflowerblue', 'red', 'blue', 'purple', 'green'])\n",
        "        for i, color in zip(range(n_classes), colors):\n",
        "            plt.plot(fpr[i], tpr[i], color=color, lw=lw,\n",
        "                     label='ROC curve of class {0} (area = {1:0.2f})'\n",
        "                     ''.format(i, roc_auc[i]))\n",
        "\n",
        "        plt.plot([0, 1], [0, 1], 'k--', lw=lw)\n",
        "        plt.xlim([0.0, 1.0])\n",
        "        plt.ylim([0.0, 1.05])\n",
        "        plt.xlabel('False Positive Rate')\n",
        "        plt.ylabel('True Positive Rate')\n",
        "        plt.title('multi-class ROC (One vs All)')\n",
        "        plt.legend(loc=\"lower right\")\n",
        "        plt.show()"
      ],
      "execution_count": 13,
      "outputs": []
    },
    {
      "cell_type": "markdown",
      "metadata": {
        "id": "ujn0OYb8pW7N"
      },
      "source": [
        "# **Naive Bayes Classifier**"
      ]
    },
    {
      "cell_type": "code",
      "metadata": {
        "colab": {
          "base_uri": "https://localhost:8080/",
          "height": 711
        },
        "id": "p9a5b1BlbizN",
        "outputId": "0cef2756-219b-42aa-b4f3-7bbd90d2c155"
      },
      "source": [
        "# MultinomialNB\n",
        "classifier = MultinomialNB()\n",
        "classifier.fit(X_train, y_train)\n",
        " \n",
        "y_pred = classifier.predict(X_test)\n",
        "# crear matriz de confusión\n",
        "matrixMultinomialNB = confusion_matrix(y_test, y_pred) \n",
        "# Summary of the predictions made by the classifier\n",
        "print(classification_report(y_test, y_pred))\n",
        "# Accuracy score\n",
        "print('Accuracy: %.2f' % accuracy_score(y_pred,y_test))\n",
        "\n",
        "sns.heatmap(matrixMultinomialNB.T, square=True, annot=True, fmt='d', cbar=False)\n",
        "plt.xlabel('Clase de test')\n",
        "plt.ylabel('Clase de la predicción');\n",
        "auc_NB = get_classification_ROC(X_test,y_test,classifier,test_size=0.3,random_state=0)"
      ],
      "execution_count": 14,
      "outputs": [
        {
          "output_type": "stream",
          "text": [
            "              precision    recall  f1-score   support\n",
            "\n",
            "           0       0.62      0.53      0.57       228\n",
            "           1       0.62      0.71      0.66       252\n",
            "\n",
            "    accuracy                           0.62       480\n",
            "   macro avg       0.62      0.62      0.62       480\n",
            "weighted avg       0.62      0.62      0.62       480\n",
            "\n",
            "Accuracy: 0.62\n"
          ],
          "name": "stdout"
        },
        {
          "output_type": "display_data",
          "data": {
            "image/png": "[encoded data removed]",
            "text/plain": [
              "<Figure size 432x288 with 1 Axes>"
            ]
          },
          "metadata": {
            "tags": [],
            "needs_background": "light"
          }
        },
        {
          "output_type": "display_data",
          "data": {
            "image/png": "[encoded data removed]",
            "text/plain": [
              "<Figure size 432x288 with 1 Axes>"
            ]
          },
          "metadata": {
            "tags": [],
            "needs_background": "light"
          }
        }
      ]
    },
    {
      "cell_type": "code",
      "metadata": {
        "colab": {
          "base_uri": "https://localhost:8080/",
          "height": 711
        },
        "id": "kjNeDwEBfBvy",
        "outputId": "4fffe6df-def1-49c4-c6f1-042f851744c5"
      },
      "source": [
        "# Bernoulli Naive Bayes\n",
        "\n",
        "classifier = BernoulliNB()\n",
        "classifier.fit(X_train, y_train)\n",
        " \n",
        "y_pred = classifier.predict(X_test)\n",
        "\n",
        "# Summary of the predictions made by the classifier\n",
        "print(classification_report(y_test, y_pred))\n",
        "matrixBernoulliNB = confusion_matrix(y_test, y_pred)\n",
        "\n",
        "sns.heatmap(matrixBernoulliNB.T, square=True, annot=True, fmt='d', cbar=False)\n",
        "plt.xlabel('Clase de test')\n",
        "plt.ylabel('Clase de la predicción');\n",
        "# Accuracy score\n",
        "print('Accuracy: %.2f' % accuracy_score(y_pred,y_test))\n",
        "auc_NB = get_classification_ROC(X_test,y_test,classifier,test_size=0.3,random_state=0)"
      ],
      "execution_count": 15,
      "outputs": [
        {
          "output_type": "stream",
          "text": [
            "              precision    recall  f1-score   support\n",
            "\n",
            "           0       0.49      0.08      0.14       228\n",
            "           1       0.53      0.92      0.67       252\n",
            "\n",
            "    accuracy                           0.52       480\n",
            "   macro avg       0.51      0.50      0.40       480\n",
            "weighted avg       0.51      0.52      0.42       480\n",
            "\n",
            "Accuracy: 0.52\n"
          ],
          "name": "stdout"
        },
        {
          "output_type": "display_data",
          "data": {
            "image/png": "[encoded data removed]",
            "text/plain": [
              "<Figure size 432x288 with 1 Axes>"
            ]
          },
          "metadata": {
            "tags": [],
            "needs_background": "light"
          }
        },
        {
          "output_type": "display_data",
          "data": {
            "image/png": "[encoded data removed]",
            "text/plain": [
              "<Figure size 432x288 with 1 Axes>"
            ]
          },
          "metadata": {
            "tags": [],
            "needs_background": "light"
          }
        }
      ]
    },
    {
      "cell_type": "code",
      "metadata": {
        "colab": {
          "base_uri": "https://localhost:8080/",
          "height": 711
        },
        "id": "pB36eR76fRvq",
        "outputId": "acb0fc27-4b40-4726-fce8-9100f482e7cc"
      },
      "source": [
        "# Complement Naive Bayes\n",
        "\n",
        "classifier = ComplementNB()\n",
        "classifier.fit(X_train, y_train)\n",
        " \n",
        "y_pred = classifier.predict(X_test)\n",
        " \n",
        "# Summary of the predictions made by the classifier\n",
        "print(classification_report(y_test, y_pred))\n",
        "matrixComplementNB = confusion_matrix(y_test, y_pred)\n",
        "\n",
        "sns.heatmap(matrixComplementNB.T, square=True, annot=True, fmt='d', cbar=False)\n",
        "plt.xlabel('Clase de test')\n",
        "plt.ylabel('Clase de la predicción');\n",
        "# Accuracy score\n",
        "print('Accuracy: %.2f' % accuracy_score(y_pred,y_test))\n",
        "auc_NB = get_classification_ROC(X_test,y_test,classifier,test_size=0.3,random_state=0)"
      ],
      "execution_count": 16,
      "outputs": [
        {
          "output_type": "stream",
          "text": [
            "              precision    recall  f1-score   support\n",
            "\n",
            "           0       0.61      0.54      0.57       228\n",
            "           1       0.62      0.69      0.66       252\n",
            "\n",
            "    accuracy                           0.62       480\n",
            "   macro avg       0.62      0.61      0.61       480\n",
            "weighted avg       0.62      0.62      0.62       480\n",
            "\n",
            "Accuracy: 0.62\n"
          ],
          "name": "stdout"
        },
        {
          "output_type": "display_data",
          "data": {
            "image/png": "[encoded data removed]",
            "text/plain": [
              "<Figure size 432x288 with 1 Axes>"
            ]
          },
          "metadata": {
            "tags": [],
            "needs_background": "light"
          }
        },
        {
          "output_type": "display_data",
          "data": {
            "image/png": "[encoded data removed]",
            "text/plain": [
              "<Figure size 432x288 with 1 Axes>"
            ]
          },
          "metadata": {
            "tags": [],
            "needs_background": "light"
          }
        }
      ]
    },
    {
      "cell_type": "code",
      "metadata": {
        "colab": {
          "base_uri": "https://localhost:8080/",
          "height": 711
        },
        "id": "ajOHv2Fff3LS",
        "outputId": "6acc3c03-b39f-4faa-a78e-f04e81b2ac83"
      },
      "source": [
        "classifier = GaussianNB()\n",
        "classifier.fit(X_train, y_train)\n",
        "y_pred = classifier.predict(X_test)\n",
        " \n",
        "# Summary of the predictions made by the classifier\n",
        "print(classification_report(y_test, y_pred))\n",
        "matrixGaussianNB = confusion_matrix(y_test, y_pred)\n",
        "\n",
        "sns.heatmap(matrixGaussianNB.T, square=True, annot=True, fmt='d', cbar=False)\n",
        "plt.xlabel('Clase de test')\n",
        "plt.ylabel('Clase de la predicción');\n",
        "# Accuracy score\n",
        "print('Accuracy: %.2f' % accuracy_score(y_pred,y_test))\n",
        "\n",
        "auc_NB = get_classification_ROC(X_test,y_test,classifier,test_size=0.3,random_state=0)"
      ],
      "execution_count": 17,
      "outputs": [
        {
          "output_type": "stream",
          "text": [
            "              precision    recall  f1-score   support\n",
            "\n",
            "           0       0.71      0.75      0.73       228\n",
            "           1       0.76      0.72      0.74       252\n",
            "\n",
            "    accuracy                           0.73       480\n",
            "   macro avg       0.73      0.73      0.73       480\n",
            "weighted avg       0.73      0.73      0.73       480\n",
            "\n",
            "Accuracy: 0.73\n"
          ],
          "name": "stdout"
        },
        {
          "output_type": "display_data",
          "data": {
            "image/png": "[encoded data removed]",
            "text/plain": [
              "<Figure size 432x288 with 1 Axes>"
            ]
          },
          "metadata": {
            "tags": [],
            "needs_background": "light"
          }
        },
        {
          "output_type": "display_data",
          "data": {
            "image/png": "[encoded data removed]",
            "text/plain": [
              "<Figure size 432x288 with 1 Axes>"
            ]
          },
          "metadata": {
            "tags": [],
            "needs_background": "light"
          }
        }
      ]
    },
    {
      "cell_type": "code",
      "metadata": {
        "colab": {
          "base_uri": "https://localhost:8080/",
          "height": 635
        },
        "id": "0Ijx8gR5WmKp",
        "outputId": "0683cae5-8913-48a2-b18c-6e8b1d630301"
      },
      "source": [
        "classifiers = [\n",
        "    GaussianNB(),\n",
        "    MultinomialNB(),\n",
        "    BernoulliNB(),\n",
        "    ComplementNB(),               \n",
        "                  ]\n",
        " \n",
        "# Logging for Visual Comparison\n",
        "log_cols=[\"Classifier\", \"Accuracy\", \"Log Loss\"]\n",
        "log = pd.DataFrame(columns=log_cols)\n",
        " \n",
        "for clf in classifiers:\n",
        "    clf.fit(X_train, y_train)\n",
        "    name = clf.__class__.__name__\n",
        "    \n",
        "    print(\"=\"*30)\n",
        "    print(name)\n",
        "    \n",
        "    print('****Results****')\n",
        "    train_predictions = clf.predict(X_test)\n",
        "    acc = accuracy_score(y_test, train_predictions)\n",
        "    print(\"Accuracy: {:.4%}\".format(acc))\n",
        "    \n",
        "    log_entry = pd.DataFrame([[name, acc*100, 11]], columns=log_cols)\n",
        "    log = log.append(log_entry)\n",
        "    \n",
        "    print(\"=\"*30)\n",
        "\n",
        "sns.set_color_codes(\"muted\")\n",
        "sns.barplot(x='Accuracy', y='Classifier', data=log, color=\"b\")\n",
        " \n",
        "plt.xlabel('Accuracy %')\n",
        "plt.title('Classifier Accuracy')\n",
        "plt.show()\n"
      ],
      "execution_count": 18,
      "outputs": [
        {
          "output_type": "stream",
          "text": [
            "==============================\n",
            "GaussianNB\n",
            "****Results****\n",
            "Accuracy: 73.3333%\n",
            "==============================\n",
            "==============================\n",
            "MultinomialNB\n",
            "****Results****\n",
            "Accuracy: 62.2917%\n",
            "==============================\n",
            "==============================\n",
            "BernoulliNB\n",
            "****Results****\n",
            "Accuracy: 52.2917%\n",
            "==============================\n",
            "==============================\n",
            "ComplementNB\n",
            "****Results****\n",
            "Accuracy: 61.8750%\n",
            "==============================\n"
          ],
          "name": "stdout"
        },
        {
          "output_type": "display_data",
          "data": {
            "image/png": "[encoded data removed]",
            "text/plain": [
              "<Figure size 432x288 with 1 Axes>"
            ]
          },
          "metadata": {
            "tags": [],
            "needs_background": "light"
          }
        }
      ]
    }
  ]
}