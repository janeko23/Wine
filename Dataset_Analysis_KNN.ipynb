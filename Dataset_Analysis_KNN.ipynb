{
  "nbformat": 4,
  "nbformat_minor": 0,
  "metadata": {
    "colab": {
      "name": "Dataset_Analysis_KNN.ipynb",
      "provenance": []
    },
    "kernelspec": {
      "display_name": "Python 3",
      "language": "python",
      "name": "python3"
    },
    "language_info": {
      "codemirror_mode": {
        "name": "ipython",
        "version": 3
      },
      "file_extension": ".py",
      "mimetype": "text/x-python",
      "name": "python",
      "nbconvert_exporter": "python",
      "pygments_lexer": "ipython3",
      "version": "3.9.5"
    }
  },
  "cells": [
    {
      "cell_type": "markdown",
      "metadata": {
        "id": "5Hwmdb1Brs5N"
      },
      "source": [
        "# 🍷 Red Wine Quality Analysis\n",
        "\n",
        "Con el siguiente conjuntos de datos aplicaremos Algoritmos de clasificación o regresión. Las clases están ordenadas y no equilibradas (por ejemplo, hay vinos buenos o malos)."
      ]
    },
    {
      "cell_type": "markdown",
      "metadata": {
        "id": "F4XEMg0RtBpE"
      },
      "source": [
        "# Importing Libraries "
      ]
    },
    {
      "cell_type": "code",
      "metadata": {
        "id": "CJnHoJ4Hrmwb"
      },
      "source": [
        "\n",
        "# For Data Manipulation\n",
        "import pandas as pd\n",
        "import numpy as np\n",
        "import sklearn as s\n",
        "import seaborn as sns\n",
        "import matplotlib.pyplot as plt\n",
        "from matplotlib.colors import ListedColormap\n",
        "import math\n",
        "from itertools import cycle\n",
        "\n",
        "# For Data Preprocessing\n",
        "from sklearn.model_selection import train_test_split\n",
        "from sklearn.preprocessing import StandardScaler\n",
        "from sklearn import metrics\n",
        "\n",
        "# K-Nearest Neighbors\n",
        "from sklearn.neighbors import KNeighborsClassifier as KNN\n",
        "\n",
        "# For Classification Results\n",
        "from sklearn.metrics import accuracy_score, precision_score, recall_score, roc_auc_score\n",
        "from sklearn.metrics import classification_report\n",
        "from sklearn.metrics import confusion_matrix\n",
        "from sklearn.metrics import roc_curve, auc\n",
        "from sklearn.metrics import plot_roc_curve\n",
        "from sklearn.preprocessing import label_binarize\n",
        "from scipy import interp\n",
        "from sklearn.exceptions import NotFittedError\n",
        "from sklearn.model_selection import learning_curve\n",
        "from sklearn.metrics import accuracy_score\n",
        "from sklearn.model_selection import StratifiedKFold\n",
        "\n",
        "#Bibliotecas para generar gráficos\n",
        "from sklearn.tree import export_graphviz\n",
        "from six import StringIO\n",
        "from IPython.display import Image  \n",
        "import pydotplus\n",
        "%matplotlib inline\n",
        "import warnings\n",
        "warnings.simplefilter(action=\"ignore\")\n",
        "\n",
        "\n",
        "from sklearn.model_selection import GridSearchCV\n",
        "from sklearn.multiclass import OneVsRestClassifier"
      ],
      "execution_count": null,
      "outputs": []
    },
    {
      "cell_type": "markdown",
      "metadata": {
        "id": "significant-aluminum",
        "papermill": {
          "duration": 0.026915,
          "end_time": "2021-06-27T18:36:05.121873",
          "exception": false,
          "start_time": "2021-06-27T18:36:05.094958",
          "status": "completed"
        },
        "tags": []
      },
      "source": [
        "# Loading the dataset"
      ]
    },
    {
      "cell_type": "code",
      "metadata": {
        "execution": {
          "iopub.execute_input": "2021-06-27T18:36:05.178569Z",
          "iopub.status.busy": "2021-06-27T18:36:05.177864Z",
          "iopub.status.idle": "2021-06-27T18:36:05.199900Z",
          "shell.execute_reply": "2021-06-27T18:36:05.200494Z",
          "shell.execute_reply.started": "2021-06-13T11:47:01.906462Z"
        },
        "id": "brutal-local",
        "papermill": {
          "duration": 0.052076,
          "end_time": "2021-06-27T18:36:05.200676",
          "exception": false,
          "start_time": "2021-06-27T18:36:05.148600",
          "status": "completed"
        },
        "tags": []
      },
      "source": [
        "wine = pd.read_csv('./winequality-red.csv')"
      ],
      "execution_count": null,
      "outputs": []
    },
    {
      "cell_type": "markdown",
      "metadata": {
        "id": "3U04VEAft1Kb"
      },
      "source": [
        "<a id = '3.1'></a>\n",
        "<p style = \"font-size : 35px; color :#000080 ; font-family : 'Comic Sans MS'; text-align : center; background-color : #808080; border-radius: 5px 5px;\"><strong>Variable Description</strong></p>"
      ]
    },
    {
      "cell_type": "markdown",
      "metadata": {
        "id": "5RKJeJ71ubDF"
      },
      "source": [
        "\n",
        "<ol>\n",
        "    <li style = \"color:darkred\"> <p style = \"color:black;font-family:Comic Sans MS\" > <strong>fixed acidity : </strong> most acids involved with wine or fixed or nonvolatile (do not evaporate readily) </p> </li>\n",
        "        <li style = \"color:darkred\"> <p style = \"color:black;font-family:Comic Sans MS\" > <strong>volatile acidity : </strong>the amount of acetic acid in wine, which at too high of levels can lead to an unpleasant, vinegar taste</p> </li>\n",
        "        <li style = \"color:darkred\"> <p style = \"color:black;font-family:Comic Sans MS\" > <strong>citric acid : </strong> found in small quantities, citric acid can add 'freshness' and flavor to wines</p> </li>\n",
        "        <li style = \"color:darkred\"> <p style = \"color:black;font-family:Comic Sans MS\" > <strong>residual sugar : </strong>the amount of sugar remaining after fermentation stops, it's rare to find wines with less than 1 gram/liter and wines with greater than 45 grams/liter are considered sweet </p> </li>\n",
        "        <li style = \"color:darkred\"> <p style = \"color:black;font-family:Comic Sans MS\" > <strong>chlorides : </strong> the amount of salt in the wine</p> </li>\n",
        "        <li style = \"color:darkred\"> <p style = \"color:black;font-family:Comic Sans MS\" > <strong>free sulfur dioxide : </strong> the free form of SO2 exists in equilibrium between molecular SO2 (as a dissolved gas) and bisulfite ion; it prevents microbial growth and the oxidation of wine </p> </li>\n",
        "        <li style = \"color:darkred\"> <p style = \"color:black;font-family:Comic Sans MS\" > <strong>total sulfur dioxide : </strong> amount of free and bound forms of S02; in low concentrations, SO2 is mostly undetectable in wine, but at free SO2 concentrations over 50 ppm, SO2 becomes evident in the nose and taste of wine</p> </li>\n",
        "    <li style = \"color:darkred\"> <p style = \"color:black;font-family:Comic Sans MS\" > <strong>density : </strong>the density of water is close to that of water depending on the percent alcohol and sugar content </p> </li>\n",
        "        <li style = \"color:darkred\"> <p style = \"color:black;font-family:Comic Sans MS\" > <strong>ph : </strong>  describes how acidic or basic a wine is on a scale from 0 (very acidic) to 14 (very basic); most wines are between 3-4 on the pH scale </p> </li>\n",
        "        <li style = \"color:darkred\"> <p style = \"color:black;font-family:Comic Sans MS\" > <strong>sulphates : </strong> a wine additive which can contribute to sulfur dioxide gas (S02) levels, wich acts as an antimicrobial and antioxidant </p> </li>\n",
        "        <li style = \"color:darkred\"> <p style = \"color:black;font-family:Comic Sans MS\" > <strong>alcohol sulfur dioxide : </strong> the percent alcohol content of the wine </p> </li>\n",
        "            <li style = \"color:darkred\"> <p style = \"color:black;font-family:Comic Sans MS\" > <strong>quality : </strong> output variable (based on sensory data, score between 0 and 10)</p> </li>"
      ]
    },
    {
      "cell_type": "markdown",
      "metadata": {
        "id": "neither-metabolism",
        "papermill": {
          "duration": 0.026367,
          "end_time": "2021-06-27T18:36:05.306459",
          "exception": false,
          "start_time": "2021-06-27T18:36:05.280092",
          "status": "completed"
        },
        "tags": []
      },
      "source": [
        "![giphy.gif](https://media.giphy.com/media/ng6NcNAvohN6M/giphy.gif)"
      ]
    },
    {
      "cell_type": "markdown",
      "metadata": {
        "id": "billion-remark",
        "papermill": {
          "duration": 0.026091,
          "end_time": "2021-06-27T18:36:05.253378",
          "exception": false,
          "start_time": "2021-06-27T18:36:05.227287",
          "status": "completed"
        },
        "tags": []
      },
      "source": [
        "# Exploratory Data Analysis (EDA)"
      ]
    },
    {
      "cell_type": "code",
      "metadata": {
        "colab": {
          "base_uri": "https://localhost:8080/",
          "height": 359
        },
        "id": "s-WzkrCEtmDs",
        "outputId": "7679945d-3915-4630-f3ab-886bf15bc6d4"
      },
      "source": [
        "wine.head(10)"
      ],
      "execution_count": null,
      "outputs": [
        {
          "output_type": "execute_result",
          "data": {
            "text/html": [
              "<div>\n",
              "<style scoped>\n",
              "    .dataframe tbody tr th:only-of-type {\n",
              "        vertical-align: middle;\n",
              "    }\n",
              "\n",
              "    .dataframe tbody tr th {\n",
              "        vertical-align: top;\n",
              "    }\n",
              "\n",
              "    .dataframe thead th {\n",
              "        text-align: right;\n",
              "    }\n",
              "</style>\n",
              "<table border=\"1\" class=\"dataframe\">\n",
              "  <thead>\n",
              "    <tr style=\"text-align: right;\">\n",
              "      <th></th>\n",
              "      <th>fixed acidity</th>\n",
              "      <th>volatile acidity</th>\n",
              "      <th>citric acid</th>\n",
              "      <th>residual sugar</th>\n",
              "      <th>chlorides</th>\n",
              "      <th>free sulfur dioxide</th>\n",
              "      <th>total sulfur dioxide</th>\n",
              "      <th>density</th>\n",
              "      <th>pH</th>\n",
              "      <th>sulphates</th>\n",
              "      <th>alcohol</th>\n",
              "      <th>quality</th>\n",
              "    </tr>\n",
              "  </thead>\n",
              "  <tbody>\n",
              "    <tr>\n",
              "      <th>0</th>\n",
              "      <td>7.4</td>\n",
              "      <td>0.70</td>\n",
              "      <td>0.00</td>\n",
              "      <td>1.9</td>\n",
              "      <td>0.076</td>\n",
              "      <td>11.0</td>\n",
              "      <td>34.0</td>\n",
              "      <td>0.9978</td>\n",
              "      <td>3.51</td>\n",
              "      <td>0.56</td>\n",
              "      <td>9.4</td>\n",
              "      <td>5</td>\n",
              "    </tr>\n",
              "    <tr>\n",
              "      <th>1</th>\n",
              "      <td>7.8</td>\n",
              "      <td>0.88</td>\n",
              "      <td>0.00</td>\n",
              "      <td>2.6</td>\n",
              "      <td>0.098</td>\n",
              "      <td>25.0</td>\n",
              "      <td>67.0</td>\n",
              "      <td>0.9968</td>\n",
              "      <td>3.20</td>\n",
              "      <td>0.68</td>\n",
              "      <td>9.8</td>\n",
              "      <td>5</td>\n",
              "    </tr>\n",
              "    <tr>\n",
              "      <th>2</th>\n",
              "      <td>7.8</td>\n",
              "      <td>0.76</td>\n",
              "      <td>0.04</td>\n",
              "      <td>2.3</td>\n",
              "      <td>0.092</td>\n",
              "      <td>15.0</td>\n",
              "      <td>54.0</td>\n",
              "      <td>0.9970</td>\n",
              "      <td>3.26</td>\n",
              "      <td>0.65</td>\n",
              "      <td>9.8</td>\n",
              "      <td>5</td>\n",
              "    </tr>\n",
              "    <tr>\n",
              "      <th>3</th>\n",
              "      <td>11.2</td>\n",
              "      <td>0.28</td>\n",
              "      <td>0.56</td>\n",
              "      <td>1.9</td>\n",
              "      <td>0.075</td>\n",
              "      <td>17.0</td>\n",
              "      <td>60.0</td>\n",
              "      <td>0.9980</td>\n",
              "      <td>3.16</td>\n",
              "      <td>0.58</td>\n",
              "      <td>9.8</td>\n",
              "      <td>6</td>\n",
              "    </tr>\n",
              "    <tr>\n",
              "      <th>4</th>\n",
              "      <td>7.4</td>\n",
              "      <td>0.70</td>\n",
              "      <td>0.00</td>\n",
              "      <td>1.9</td>\n",
              "      <td>0.076</td>\n",
              "      <td>11.0</td>\n",
              "      <td>34.0</td>\n",
              "      <td>0.9978</td>\n",
              "      <td>3.51</td>\n",
              "      <td>0.56</td>\n",
              "      <td>9.4</td>\n",
              "      <td>5</td>\n",
              "    </tr>\n",
              "    <tr>\n",
              "      <th>5</th>\n",
              "      <td>7.4</td>\n",
              "      <td>0.66</td>\n",
              "      <td>0.00</td>\n",
              "      <td>1.8</td>\n",
              "      <td>0.075</td>\n",
              "      <td>13.0</td>\n",
              "      <td>40.0</td>\n",
              "      <td>0.9978</td>\n",
              "      <td>3.51</td>\n",
              "      <td>0.56</td>\n",
              "      <td>9.4</td>\n",
              "      <td>5</td>\n",
              "    </tr>\n",
              "    <tr>\n",
              "      <th>6</th>\n",
              "      <td>7.9</td>\n",
              "      <td>0.60</td>\n",
              "      <td>0.06</td>\n",
              "      <td>1.6</td>\n",
              "      <td>0.069</td>\n",
              "      <td>15.0</td>\n",
              "      <td>59.0</td>\n",
              "      <td>0.9964</td>\n",
              "      <td>3.30</td>\n",
              "      <td>0.46</td>\n",
              "      <td>9.4</td>\n",
              "      <td>5</td>\n",
              "    </tr>\n",
              "    <tr>\n",
              "      <th>7</th>\n",
              "      <td>7.3</td>\n",
              "      <td>0.65</td>\n",
              "      <td>0.00</td>\n",
              "      <td>1.2</td>\n",
              "      <td>0.065</td>\n",
              "      <td>15.0</td>\n",
              "      <td>21.0</td>\n",
              "      <td>0.9946</td>\n",
              "      <td>3.39</td>\n",
              "      <td>0.47</td>\n",
              "      <td>10.0</td>\n",
              "      <td>7</td>\n",
              "    </tr>\n",
              "    <tr>\n",
              "      <th>8</th>\n",
              "      <td>7.8</td>\n",
              "      <td>0.58</td>\n",
              "      <td>0.02</td>\n",
              "      <td>2.0</td>\n",
              "      <td>0.073</td>\n",
              "      <td>9.0</td>\n",
              "      <td>18.0</td>\n",
              "      <td>0.9968</td>\n",
              "      <td>3.36</td>\n",
              "      <td>0.57</td>\n",
              "      <td>9.5</td>\n",
              "      <td>7</td>\n",
              "    </tr>\n",
              "    <tr>\n",
              "      <th>9</th>\n",
              "      <td>7.5</td>\n",
              "      <td>0.50</td>\n",
              "      <td>0.36</td>\n",
              "      <td>6.1</td>\n",
              "      <td>0.071</td>\n",
              "      <td>17.0</td>\n",
              "      <td>102.0</td>\n",
              "      <td>0.9978</td>\n",
              "      <td>3.35</td>\n",
              "      <td>0.80</td>\n",
              "      <td>10.5</td>\n",
              "      <td>5</td>\n",
              "    </tr>\n",
              "  </tbody>\n",
              "</table>\n",
              "</div>"
            ],
            "text/plain": [
              "   fixed acidity  volatile acidity  citric acid  ...  sulphates  alcohol  quality\n",
              "0            7.4              0.70         0.00  ...       0.56      9.4        5\n",
              "1            7.8              0.88         0.00  ...       0.68      9.8        5\n",
              "2            7.8              0.76         0.04  ...       0.65      9.8        5\n",
              "3           11.2              0.28         0.56  ...       0.58      9.8        6\n",
              "4            7.4              0.70         0.00  ...       0.56      9.4        5\n",
              "5            7.4              0.66         0.00  ...       0.56      9.4        5\n",
              "6            7.9              0.60         0.06  ...       0.46      9.4        5\n",
              "7            7.3              0.65         0.00  ...       0.47     10.0        7\n",
              "8            7.8              0.58         0.02  ...       0.57      9.5        7\n",
              "9            7.5              0.50         0.36  ...       0.80     10.5        5\n",
              "\n",
              "[10 rows x 12 columns]"
            ]
          },
          "metadata": {
            "tags": []
          },
          "execution_count": 6
        }
      ]
    },
    {
      "cell_type": "markdown",
      "metadata": {
        "id": "affecting-attitude"
      },
      "source": [
        "# Definir etiquetas de Bueno o malo\n",
        "\n",
        "\n",
        "\n"
      ]
    },
    {
      "cell_type": "code",
      "metadata": {
        "id": "disturbed-nebraska"
      },
      "source": [
        "def convert_quali (quality):\n",
        "    if quality <= 5:\n",
        "        return 0\n",
        "    else:\n",
        "        return 1"
      ],
      "execution_count": null,
      "outputs": []
    },
    {
      "cell_type": "markdown",
      "metadata": {
        "id": "characteristic-circle"
      },
      "source": [
        "Bueno = 1\n",
        "Malo = 0"
      ]
    },
    {
      "cell_type": "code",
      "metadata": {
        "id": "bronze-point"
      },
      "source": [
        "wine[\"quality_bin\"] = wine[\"quality\"].apply(convert_quali)"
      ],
      "execution_count": null,
      "outputs": []
    },
    {
      "cell_type": "code",
      "metadata": {
        "colab": {
          "base_uri": "https://localhost:8080/"
        },
        "id": "professional-catalyst",
        "outputId": "64f00862-6b5f-44c4-b2a9-f1902b20f979"
      },
      "source": [
        "wine.head()"
      ],
      "execution_count": null,
      "outputs": [
        {
          "output_type": "execute_result",
          "data": {
            "text/html": [
              "<div>\n",
              "<style scoped>\n",
              "    .dataframe tbody tr th:only-of-type {\n",
              "        vertical-align: middle;\n",
              "    }\n",
              "\n",
              "    .dataframe tbody tr th {\n",
              "        vertical-align: top;\n",
              "    }\n",
              "\n",
              "    .dataframe thead th {\n",
              "        text-align: right;\n",
              "    }\n",
              "</style>\n",
              "<table border=\"1\" class=\"dataframe\">\n",
              "  <thead>\n",
              "    <tr style=\"text-align: right;\">\n",
              "      <th></th>\n",
              "      <th>fixed acidity</th>\n",
              "      <th>volatile acidity</th>\n",
              "      <th>citric acid</th>\n",
              "      <th>residual sugar</th>\n",
              "      <th>chlorides</th>\n",
              "      <th>free sulfur dioxide</th>\n",
              "      <th>total sulfur dioxide</th>\n",
              "      <th>density</th>\n",
              "      <th>pH</th>\n",
              "      <th>sulphates</th>\n",
              "      <th>alcohol</th>\n",
              "      <th>quality</th>\n",
              "      <th>quality_bin</th>\n",
              "    </tr>\n",
              "  </thead>\n",
              "  <tbody>\n",
              "    <tr>\n",
              "      <th>0</th>\n",
              "      <td>7.4</td>\n",
              "      <td>0.70</td>\n",
              "      <td>0.00</td>\n",
              "      <td>1.9</td>\n",
              "      <td>0.076</td>\n",
              "      <td>11.0</td>\n",
              "      <td>34.0</td>\n",
              "      <td>0.9978</td>\n",
              "      <td>3.51</td>\n",
              "      <td>0.56</td>\n",
              "      <td>9.4</td>\n",
              "      <td>5</td>\n",
              "      <td>0</td>\n",
              "    </tr>\n",
              "    <tr>\n",
              "      <th>1</th>\n",
              "      <td>7.8</td>\n",
              "      <td>0.88</td>\n",
              "      <td>0.00</td>\n",
              "      <td>2.6</td>\n",
              "      <td>0.098</td>\n",
              "      <td>25.0</td>\n",
              "      <td>67.0</td>\n",
              "      <td>0.9968</td>\n",
              "      <td>3.20</td>\n",
              "      <td>0.68</td>\n",
              "      <td>9.8</td>\n",
              "      <td>5</td>\n",
              "      <td>0</td>\n",
              "    </tr>\n",
              "    <tr>\n",
              "      <th>2</th>\n",
              "      <td>7.8</td>\n",
              "      <td>0.76</td>\n",
              "      <td>0.04</td>\n",
              "      <td>2.3</td>\n",
              "      <td>0.092</td>\n",
              "      <td>15.0</td>\n",
              "      <td>54.0</td>\n",
              "      <td>0.9970</td>\n",
              "      <td>3.26</td>\n",
              "      <td>0.65</td>\n",
              "      <td>9.8</td>\n",
              "      <td>5</td>\n",
              "      <td>0</td>\n",
              "    </tr>\n",
              "    <tr>\n",
              "      <th>3</th>\n",
              "      <td>11.2</td>\n",
              "      <td>0.28</td>\n",
              "      <td>0.56</td>\n",
              "      <td>1.9</td>\n",
              "      <td>0.075</td>\n",
              "      <td>17.0</td>\n",
              "      <td>60.0</td>\n",
              "      <td>0.9980</td>\n",
              "      <td>3.16</td>\n",
              "      <td>0.58</td>\n",
              "      <td>9.8</td>\n",
              "      <td>6</td>\n",
              "      <td>1</td>\n",
              "    </tr>\n",
              "    <tr>\n",
              "      <th>4</th>\n",
              "      <td>7.4</td>\n",
              "      <td>0.70</td>\n",
              "      <td>0.00</td>\n",
              "      <td>1.9</td>\n",
              "      <td>0.076</td>\n",
              "      <td>11.0</td>\n",
              "      <td>34.0</td>\n",
              "      <td>0.9978</td>\n",
              "      <td>3.51</td>\n",
              "      <td>0.56</td>\n",
              "      <td>9.4</td>\n",
              "      <td>5</td>\n",
              "      <td>0</td>\n",
              "    </tr>\n",
              "  </tbody>\n",
              "</table>\n",
              "</div>"
            ],
            "text/plain": [
              "   fixed acidity  volatile acidity  citric acid  ...  alcohol  quality  quality_bin\n",
              "0            7.4              0.70         0.00  ...      9.4        5            0\n",
              "1            7.8              0.88         0.00  ...      9.8        5            0\n",
              "2            7.8              0.76         0.04  ...      9.8        5            0\n",
              "3           11.2              0.28         0.56  ...      9.8        6            1\n",
              "4            7.4              0.70         0.00  ...      9.4        5            0\n",
              "\n",
              "[5 rows x 13 columns]"
            ]
          },
          "metadata": {
            "tags": []
          },
          "execution_count": 43
        }
      ]
    },
    {
      "cell_type": "code",
      "metadata": {
        "colab": {
          "base_uri": "https://localhost:8080/"
        },
        "execution": {
          "iopub.execute_input": "2021-03-30T10:16:53.769429Z",
          "iopub.status.busy": "2021-03-30T10:16:53.768527Z",
          "iopub.status.idle": "2021-03-30T10:16:53.771683Z",
          "shell.execute_reply": "2021-03-30T10:16:53.772216Z"
        },
        "id": "FXt7FE0S3Hh5",
        "papermill": {
          "duration": 0.069214,
          "end_time": "2021-03-30T10:16:53.772371",
          "exception": false,
          "start_time": "2021-03-30T10:16:53.703157",
          "status": "completed"
        },
        "tags": [],
        "outputId": "7cc13fea-f241-40a1-f980-949363e94192"
      },
      "source": [
        "features = wine.columns[:-2]\n",
        "output = wine.columns[-1]\n",
        "print(\"Features: \\n{}, \\n\\nLabels: \\n{}\".format(features.values,output))"
      ],
      "execution_count": null,
      "outputs": [
        {
          "output_type": "stream",
          "text": [
            "Features: \n",
            "['fixed acidity' 'volatile acidity' 'citric acid' 'residual sugar'\n",
            " 'chlorides' 'free sulfur dioxide' 'total sulfur dioxide' 'density' 'pH'\n",
            " 'sulphates' 'alcohol'], \n",
            "\n",
            "Labels: \n",
            "quality_bin\n"
          ],
          "name": "stdout"
        }
      ]
    },
    {
      "cell_type": "markdown",
      "metadata": {
        "id": "4mrlDwQj3Hh7",
        "papermill": {
          "duration": 0.067669,
          "end_time": "2021-03-30T10:16:57.037798",
          "exception": false,
          "start_time": "2021-03-30T10:16:56.970129",
          "status": "completed"
        },
        "tags": []
      },
      "source": [
        "## Data Splitting"
      ]
    },
    {
      "cell_type": "code",
      "metadata": {
        "execution": {
          "iopub.execute_input": "2021-03-30T10:16:57.181197Z",
          "iopub.status.busy": "2021-03-30T10:16:57.180187Z",
          "iopub.status.idle": "2021-03-30T10:16:57.183617Z",
          "shell.execute_reply": "2021-03-30T10:16:57.183048Z"
        },
        "id": "5EmWDfUz3Hh7",
        "papermill": {
          "duration": 0.078506,
          "end_time": "2021-03-30T10:16:57.183724",
          "exception": false,
          "start_time": "2021-03-30T10:16:57.105218",
          "status": "completed"
        },
        "tags": []
      },
      "source": [
        "X = wine[features].values\n",
        "y = wine[output].values"
      ],
      "execution_count": null,
      "outputs": []
    },
    {
      "cell_type": "code",
      "metadata": {
        "colab": {
          "base_uri": "https://localhost:8080/"
        },
        "execution": {
          "iopub.execute_input": "2021-03-30T10:16:57.325800Z",
          "iopub.status.busy": "2021-03-30T10:16:57.325063Z",
          "iopub.status.idle": "2021-03-30T10:16:57.329379Z",
          "shell.execute_reply": "2021-03-30T10:16:57.328869Z"
        },
        "id": "BinZcVby3Hh7",
        "papermill": {
          "duration": 0.077978,
          "end_time": "2021-03-30T10:16:57.329496",
          "exception": false,
          "start_time": "2021-03-30T10:16:57.251518",
          "status": "completed"
        },
        "tags": [],
        "outputId": "e9072342-f824-4973-a47f-7d0f5ab3e758"
      },
      "source": [
        "X_train, X_test, y_train, y_test = train_test_split(X,y, test_size=0.30)\n",
        "print('Training size: {}, Testing size: {}'.format(X_train.size,X_test.size))"
      ],
      "execution_count": null,
      "outputs": [
        {
          "output_type": "stream",
          "text": [
            "Training size: 12309, Testing size: 5280\n"
          ],
          "name": "stdout"
        }
      ]
    },
    {
      "cell_type": "code",
      "metadata": {
        "id": "precious-assignment"
      },
      "source": [
        "X = wine.drop([\"quality\" ,\"quality_bin\"] , axis=1)\n",
        "y = wine['quality_bin']\n"
      ],
      "execution_count": null,
      "outputs": []
    },
    {
      "cell_type": "code",
      "metadata": {
        "colab": {
          "base_uri": "https://localhost:8080/"
        },
        "id": "caVweczgVBJC",
        "outputId": "426b3427-745a-4ef3-8f60-3351cee996a5"
      },
      "source": [
        "wine['quality_bin'].value_counts()"
      ],
      "execution_count": null,
      "outputs": [
        {
          "output_type": "execute_result",
          "data": {
            "text/plain": [
              "1    855\n",
              "0    744\n",
              "Name: quality_bin, dtype: int64"
            ]
          },
          "metadata": {
            "tags": []
          },
          "execution_count": 48
        }
      ]
    },
    {
      "cell_type": "markdown",
      "metadata": {
        "id": "0LKaWeerWHap"
      },
      "source": [
        "# Functions for Analysing Results"
      ]
    },
    {
      "cell_type": "markdown",
      "metadata": {
        "id": "_XYngxtFWHar"
      },
      "source": [
        "## Probability Output"
      ]
    },
    {
      "cell_type": "code",
      "metadata": {
        "id": "i5YAOwCaWHas"
      },
      "source": [
        "def get_probabilty_output(X_test, model_fitted, value_count=10):\n",
        "    def highlight_max(data, color='yellow'):\n",
        "        attr = 'background-color: {}'.format(color)\n",
        "        if data.ndim == 1:  # Series from .apply(axis=0) or axis=1\n",
        "            is_max = data == data.max()\n",
        "            return [attr if v else '' for v in is_max]\n",
        "        else:  # from .apply(axis=None)\n",
        "            is_max = data == data.max().max()\n",
        "            return pd.DataFrame(np.where(is_max, attr, ''), index=data.index, columns=data.columns)\n",
        "        \n",
        "    y_scores = model_fitted.predict_proba(X_test)\n",
        "    prob_df = pd.DataFrame(y_scores*100).head(value_count)\n",
        "    styled_df = prob_df.style.background_gradient(cmap='Reds')\n",
        "    styled_df = styled_df.highlight_max(axis=1, color='green')\n",
        "    return styled_df"
      ],
      "execution_count": null,
      "outputs": []
    },
    {
      "cell_type": "markdown",
      "metadata": {
        "id": "q-yTckEZpW7B"
      },
      "source": [
        "## Classification Report"
      ]
    },
    {
      "cell_type": "code",
      "metadata": {
        "id": "CV0Xjbm2pW7B"
      },
      "source": [
        "def get_classification_report(y_test,predictions,average=\"macro\"):\n",
        "    #Confusion Matrix}\n",
        "   \n",
        "    cm = confusion_matrix(y_test, predictions)\n",
        "    sns.heatmap(cm, annot=True)\n",
        "    plt.title(\"Confusion Matrix\")\n",
        "    \n",
        "    acc = accuracy_score(y_test, predictions)\n",
        "    pre = precision_score(y_test, predictions, average=average)\n",
        "    rec = recall_score(y_test, predictions, average=average)\n",
        "    # Prediction Report\n",
        "    print(classification_report(y_test, predictions, digits=3))\n",
        "    print(\"Overall Accuracy:\", acc)\n",
        "    print(\"Overall Precision:\", pre)\n",
        "    print(\"Overall Recall:\", rec)\n",
        "    \n",
        "    return acc,pre,rec\n",
        "    "
      ],
      "execution_count": null,
      "outputs": []
    },
    {
      "cell_type": "markdown",
      "metadata": {
        "id": "nL74bkGupW7B"
      },
      "source": [
        "## Classification ROC"
      ]
    },
    {
      "cell_type": "code",
      "metadata": {
        "id": "Ay_iwyp4pW7B"
      },
      "source": [
        "def get_classification_ROC(X,y,model,test_size,model_fitted=False,random_state=0):\n",
        "    \n",
        "    def check_fitted(clf): \n",
        "        return hasattr(clf, \"classes_\")\n",
        "    \n",
        "    if(len(np.unique(y)) == 2):\n",
        "        #Binary Classifier\n",
        "        if not check_fitted(model):\n",
        "            model = model.fit(X,y)\n",
        "        \n",
        "        plot_roc_curve(model, X, y)\n",
        "        y_score = model.predict_proba(X)[:, 1]\n",
        "        fpr, tpr, threshold = roc_curve(y, y_score)\n",
        "        auc = roc_auc_score(y, y_score)\n",
        "        return auc\n",
        "#         print(\"False Positive Rate: {} \\nTrue Positive Rate: {} \\nThreshold:{}\".format(fpr,tpr,threshold))\n",
        "    \n",
        "    else:\n",
        "        #Multiclass Classifier\n",
        "        y_bin = label_binarize(y, classes=np.unique(y))\n",
        "        n_classes = y_bin.shape[1]\n",
        "\n",
        "        # shuffle and split training and test sets\n",
        "        X_train, X_test, y_train, y_test = train_test_split(X, y_bin, test_size=test_size, random_state=random_state)\n",
        "\n",
        "        # Learn to predict each class against the other\n",
        "        classifier = OneVsRestClassifier(model)\n",
        "        model_fitted = classifier.fit(X_train, y_train)\n",
        "        try:\n",
        "            y_score = model_fitted.decision_function(X_test)\n",
        "        except:\n",
        "            y_score = model_fitted.predict_proba(X_test)\n",
        "\n",
        "\n",
        "\n",
        "        # Compute ROC curve and ROC area for each class\n",
        "        fpr = dict()\n",
        "        tpr = dict()\n",
        "        roc_auc = dict()\n",
        "        for i in range(n_classes):\n",
        "            fpr[i], tpr[i], _ = roc_curve(y_test[:, i], y_score[:, i])\n",
        "            roc_auc[i] = auc(fpr[i], tpr[i])\n",
        "\n",
        "\n",
        "        # Compute micro-average ROC curve and ROC area\n",
        "        fpr[\"micro\"], tpr[\"micro\"], _ = roc_curve(y_test.ravel(), y_score.ravel())\n",
        "        roc_auc[\"micro\"] = auc(fpr[\"micro\"], tpr[\"micro\"])\n",
        "\n",
        "\n",
        "        plt.figure()\n",
        "        lw = 2\n",
        "        plt.plot(fpr[2], tpr[2], color='darkorange',\n",
        "                 lw=lw, label='ROC curve (area = %0.2f)' % roc_auc[2])\n",
        "        plt.plot([0, 1], [0, 1], color='navy', lw=lw, linestyle='--')\n",
        "        plt.xlim([0.0, 1.0])\n",
        "        plt.ylim([0.0, 1.05])\n",
        "        plt.xlabel('False Positive Rate')\n",
        "        plt.ylabel('True Positive Rate')\n",
        "        plt.title('Receiver operating characteristic averaged')\n",
        "        plt.legend(loc=\"lower right\")\n",
        "        plt.show()\n",
        "\n",
        "\n",
        "\n",
        "        # First aggregate all false positive rates\n",
        "        all_fpr = np.unique(np.concatenate([fpr[i] for i in range(n_classes)]))\n",
        "\n",
        "        # Then interpolate all ROC curves at this points\n",
        "        mean_tpr = np.zeros_like(all_fpr)\n",
        "        for i in range(n_classes):\n",
        "            mean_tpr += interp(all_fpr, fpr[i], tpr[i])\n",
        "\n",
        "        # Finally average it and compute AUC\n",
        "        mean_tpr /= n_classes\n",
        "\n",
        "        fpr[\"macro\"] = all_fpr\n",
        "        tpr[\"macro\"] = mean_tpr\n",
        "        roc_auc[\"macro\"] = auc(fpr[\"macro\"], tpr[\"macro\"])\n",
        "\n",
        "        # Plot all ROC curves\n",
        "        plt.figure(figsize=(10,10))\n",
        "        plt.plot(fpr[\"micro\"], tpr[\"micro\"],\n",
        "                 label='micro-average ROC curve (area = {0:0.2f})'\n",
        "                       ''.format(roc_auc[\"micro\"]),\n",
        "                 color='deeppink', linestyle=':', linewidth=4)\n",
        "\n",
        "        plt.plot(fpr[\"macro\"], tpr[\"macro\"],\n",
        "                 label='macro-average ROC curve (area = {0:0.2f})'\n",
        "                       ''.format(roc_auc[\"macro\"]),\n",
        "                 color='navy', linestyle=':', linewidth=4)\n",
        "\n",
        "        colors = cycle(['aqua', 'darkorange', 'cornflowerblue', 'red', 'blue', 'purple', 'green'])\n",
        "        for i, color in zip(range(n_classes), colors):\n",
        "            plt.plot(fpr[i], tpr[i], color=color, lw=lw,\n",
        "                     label='ROC curve of class {0} (area = {1:0.2f})'\n",
        "                     ''.format(i, roc_auc[i]))\n",
        "\n",
        "        plt.plot([0, 1], [0, 1], 'k--', lw=lw)\n",
        "        plt.xlim([0.0, 1.0])\n",
        "        plt.ylim([0.0, 1.05])\n",
        "        plt.xlabel('False Positive Rate')\n",
        "        plt.ylabel('True Positive Rate')\n",
        "        plt.title('multi-class ROC (One vs All)')\n",
        "        plt.legend(loc=\"lower right\")\n",
        "        plt.show()"
      ],
      "execution_count": null,
      "outputs": []
    },
    {
      "cell_type": "markdown",
      "metadata": {
        "id": "2UpujbOOpW7I"
      },
      "source": [
        "# **KNN: k-Nearest Neighbor Classifier**"
      ]
    },
    {
      "cell_type": "code",
      "metadata": {
        "colab": {
          "base_uri": "https://localhost:8080/"
        },
        "id": "XA9CLh3rIiXX",
        "outputId": "8cc7faa2-6b40-4c06-a5d9-f9dba28cdec0"
      },
      "source": [
        "# try K=1 through K=25 and record testing accuracy\n",
        "k_range = range(1, 120)\n",
        "\n",
        "# We can create Python dictionary using [] or dict()\n",
        "scores = []\n",
        "\n",
        "# We use a loop through the range 1 to 26\n",
        "# We append the scores in the dictionary\n",
        "for k in k_range:\n",
        "    knn = KNN(n_neighbors=k)\n",
        "    knn.fit(X_train, y_train)\n",
        "    y_pred = knn.predict(X_test)\n",
        "    scores.append(metrics.accuracy_score(y_test, y_pred))\n",
        "\n",
        "print(scores)"
      ],
      "execution_count": null,
      "outputs": [
        {
          "output_type": "stream",
          "text": [
            "[0.7020833333333333, 0.65, 0.6520833333333333, 0.6291666666666667, 0.6520833333333333, 0.6541666666666667, 0.6229166666666667, 0.6395833333333333, 0.6354166666666666, 0.6375, 0.65625, 0.6520833333333333, 0.65, 0.6541666666666667, 0.6604166666666667, 0.65625, 0.65625, 0.6541666666666667, 0.65, 0.6520833333333333, 0.6625, 0.6625, 0.66875, 0.6645833333333333, 0.6708333333333333, 0.6708333333333333, 0.6604166666666667, 0.6583333333333333, 0.6604166666666667, 0.6541666666666667, 0.65625, 0.6395833333333333, 0.6458333333333334, 0.6416666666666667, 0.65625, 0.65, 0.6541666666666667, 0.6541666666666667, 0.63125, 0.6375, 0.6375, 0.6520833333333333, 0.64375, 0.6458333333333334, 0.6395833333333333, 0.65, 0.65625, 0.6458333333333334, 0.6583333333333333, 0.6479166666666667, 0.65, 0.6520833333333333, 0.64375, 0.6416666666666667, 0.64375, 0.6479166666666667, 0.6479166666666667, 0.6416666666666667, 0.6375, 0.6458333333333334, 0.6416666666666667, 0.6541666666666667, 0.6479166666666667, 0.6583333333333333, 0.6479166666666667, 0.65, 0.6479166666666667, 0.65625, 0.6479166666666667, 0.6520833333333333, 0.6604166666666667, 0.66875, 0.6604166666666667, 0.6625, 0.6604166666666667, 0.6645833333333333, 0.6541666666666667, 0.6583333333333333, 0.6604166666666667, 0.6604166666666667, 0.6625, 0.6583333333333333, 0.6583333333333333, 0.6583333333333333, 0.6604166666666667, 0.6604166666666667, 0.6541666666666667, 0.6604166666666667, 0.6583333333333333, 0.65625, 0.65625, 0.6541666666666667, 0.6520833333333333, 0.65, 0.6541666666666667, 0.6583333333333333, 0.65, 0.6520833333333333, 0.6479166666666667, 0.6458333333333334, 0.6479166666666667, 0.6479166666666667, 0.6458333333333334, 0.6520833333333333, 0.64375, 0.6479166666666667, 0.65, 0.6479166666666667, 0.6458333333333334, 0.6416666666666667, 0.6375, 0.6395833333333333, 0.6333333333333333, 0.6395833333333333, 0.6416666666666667, 0.6354166666666666, 0.63125, 0.6395833333333333, 0.64375]\n"
          ],
          "name": "stdout"
        }
      ]
    },
    {
      "cell_type": "code",
      "metadata": {
        "colab": {
          "base_uri": "https://localhost:8080/",
          "height": 296
        },
        "id": "TfMiyTrSIqAn",
        "outputId": "c17ea280-243f-439c-9b68-9253d6b54e3c"
      },
      "source": [
        "# plot the relationship between K and testing accuracy\n",
        "# plt.plot(x_axis, y_axis)\n",
        "plt.plot(k_range, scores)\n",
        "plt.xlabel('Value of K for KNN')\n",
        "plt.ylabel('Testing Accuracy')"
      ],
      "execution_count": null,
      "outputs": [
        {
          "output_type": "execute_result",
          "data": {
            "text/plain": [
              "Text(0, 0.5, 'Testing Accuracy')"
            ]
          },
          "metadata": {
            "tags": []
          },
          "execution_count": 12
        },
        {
          "output_type": "display_data",
          "data": {
            "image/png": "[encoded data removed]",
            "text/plain": [
              "<Figure size 432x288 with 1 Axes>"
            ]
          },
          "metadata": {
            "tags": [],
            "needs_background": "light"
          }
        }
      ]
    },
    {
      "cell_type": "code",
      "metadata": {
        "colab": {
          "base_uri": "https://localhost:8080/"
        },
        "id": "ie2nvH3mI_bg",
        "outputId": "3cc6175e-de74-4549-a559-e502317a0f90"
      },
      "source": [
        "knn = KNN(n_neighbors=1)\n",
        "knn.fit(X_train, y_train)\n",
        "y_pred = knn.predict(X_test)\n",
        "print('Accuracy: %.2f' % metrics.accuracy_score(y_test, y_pred))\n",
        "print('Loss: %.2f' % metrics.brier_score_loss(y_test, y_pred))"
      ],
      "execution_count": null,
      "outputs": [
        {
          "output_type": "stream",
          "text": [
            "Accuracy: 0.70\n",
            "Loss: 0.30\n"
          ],
          "name": "stdout"
        }
      ]
    },
    {
      "cell_type": "code",
      "metadata": {
        "colab": {
          "base_uri": "https://localhost:8080/",
          "height": 449
        },
        "id": "XZjJaPrzkfH7",
        "outputId": "44b7d6ca-5149-4d5f-e559-bf16a9d16ee6"
      },
      "source": [
        "matrixKNN = confusion_matrix(y_test, y_pred) \n",
        "# Summary of the predictions made by the classifier\n",
        "print(classification_report(y_test, y_pred))\n",
        "# Accuracy score\n",
        "print('Accuracy: %.2f' % accuracy_score(y_pred,y_test))\n",
        "\n",
        "sns.heatmap(matrixKNN.T, square=True, annot=True, fmt='d', cbar=False)\n",
        "plt.xlabel('Clase de test')\n",
        "plt.ylabel('Clase de la predicción');"
      ],
      "execution_count": null,
      "outputs": [
        {
          "output_type": "stream",
          "text": [
            "              precision    recall  f1-score   support\n",
            "\n",
            "           0       0.68      0.67      0.68       224\n",
            "           1       0.72      0.73      0.72       256\n",
            "\n",
            "    accuracy                           0.70       480\n",
            "   macro avg       0.70      0.70      0.70       480\n",
            "weighted avg       0.70      0.70      0.70       480\n",
            "\n",
            "Accuracy: 0.70\n"
          ],
          "name": "stdout"
        },
        {
          "output_type": "display_data",
          "data": {
            "image/png": "[encoded data removed]",
            "text/plain": [
              "<Figure size 432x288 with 1 Axes>"
            ]
          },
          "metadata": {
            "tags": [],
            "needs_background": "light"
          }
        }
      ]
    },
    {
      "cell_type": "markdown",
      "metadata": {
        "id": "MM9ECXP2K-RH"
      },
      "source": [
        "BUSCANDO LA MEJOR METRICA"
      ]
    },
    {
      "cell_type": "code",
      "metadata": {
        "id": "eHnsBgvRpW7I"
      },
      "source": [
        "parameters_KNN = {\n",
        "    \"n_neighbors\" : range(1, 120),\n",
        "    \"weights\" : ('uniform','distance'),\n",
        "    'metric':('euclidean','manhattan','chebyshev','minkowski','seuclidean','mahalanobis'),\n",
        "    \"algorithm\" : ('auto','ball_tree','kd_tree','brute'),\n",
        "    'p': [1,2,5]    \n",
        "}\n",
        "\n",
        "model_KNN = KNN()\n",
        "model_KNN_with_best_params = GridSearchCV(model_KNN, parameters_KNN, scoring=\"accuracy\")\n",
        "model_KNN_with_best_params.fit(X_train,y_train)\n",
        "model_KNN_best_params = model_KNN_with_best_params.best_params_"
      ],
      "execution_count": null,
      "outputs": []
    },
    {
      "cell_type": "code",
      "metadata": {
        "colab": {
          "base_uri": "https://localhost:8080/"
        },
        "id": "3kKlZL0cpW7I",
        "outputId": "fe78d7d1-da1d-4e62-87d9-0bc663b1c7c8"
      },
      "source": [
        "model_KNN_best_params"
      ],
      "execution_count": null,
      "outputs": [
        {
          "output_type": "execute_result",
          "data": {
            "text/plain": [
              "{'algorithm': 'brute',\n",
              " 'metric': 'seuclidean',\n",
              " 'n_neighbors': 101,\n",
              " 'p': 1,\n",
              " 'weights': 'distance'}"
            ]
          },
          "metadata": {
            "tags": []
          },
          "execution_count": 16
        }
      ]
    },
    {
      "cell_type": "markdown",
      "metadata": {
        "id": "_HAJakK_5cGX"
      },
      "source": [
        "naranja son cuantos ceros accerte cuantos clasifico\n",
        "\n",
        "pastel es cuantos 1 acerto\n",
        "\n",
        "negro y violeta son los falsos "
      ]
    },
    {
      "cell_type": "markdown",
      "metadata": {
        "id": "HodtfwIzpW7J"
      },
      "source": [
        "### Predicting "
      ]
    },
    {
      "cell_type": "code",
      "metadata": {
        "colab": {
          "base_uri": "https://localhost:8080/"
        },
        "id": "qKLyzyUxpW7J",
        "outputId": "9f5b4d1b-37f2-45d0-d1bd-0d8a5c7df936"
      },
      "source": [
        "predictions_KNN = model_KNN_with_best_params.predict(X_test)\n",
        "print(\"Predictions:\",predictions_KNN[:10])\n",
        "print(\"Actual:\",y_test[:10])"
      ],
      "execution_count": null,
      "outputs": [
        {
          "output_type": "stream",
          "text": [
            "Predictions: [1 1 0 0 0 0 0 0 1 0]\n",
            "Actual: [1 1 0 0 0 1 0 0 0 0]\n"
          ],
          "name": "stdout"
        }
      ]
    },
    {
      "cell_type": "code",
      "metadata": {
        "colab": {
          "base_uri": "https://localhost:8080/"
        },
        "id": "tei6zG7CIBpQ",
        "outputId": "72539f2c-8b3d-4d4d-c975-13d44ff55a3a"
      },
      "source": [
        "print('Accuracy: %.2f' % metrics.accuracy_score(y_test, predictions_KNN))\n",
        "print('Loss: %.2f' % metrics.brier_score_loss(y_test, predictions_KNN))"
      ],
      "execution_count": null,
      "outputs": [
        {
          "output_type": "stream",
          "text": [
            "Accuracy: 0.82\n",
            "Loss: 0.18\n"
          ],
          "name": "stdout"
        }
      ]
    },
    {
      "cell_type": "markdown",
      "metadata": {
        "id": "He4Q7uhnpW7J"
      },
      "source": [
        "### Result"
      ]
    },
    {
      "cell_type": "code",
      "metadata": {
        "colab": {
          "base_uri": "https://localhost:8080/",
          "height": 250
        },
        "id": "gaUGrF3IpW7J",
        "outputId": "6a1f3dd5-4d45-452d-f477-f22284a07de4"
      },
      "source": [
        "get_probabilty_output(X_test=X_test, model_fitted=model_KNN_with_best_params)"
      ],
      "execution_count": null,
      "outputs": [
        {
          "output_type": "execute_result",
          "data": {
            "text/html": [
              "<style  type=\"text/css\" >\n",
              "#T_e4d4d496_e8eb_11eb_bb7b_0242ac1c0002row0_col0,#T_e4d4d496_e8eb_11eb_bb7b_0242ac1c0002row4_col1{\n",
              "            background-color:  #fff5f0;\n",
              "            color:  #000000;\n",
              "        }#T_e4d4d496_e8eb_11eb_bb7b_0242ac1c0002row0_col1,#T_e4d4d496_e8eb_11eb_bb7b_0242ac1c0002row4_col0{\n",
              "            background-color:  #67000d;\n",
              "            color:  #f1f1f1;\n",
              "            background-color:  green;\n",
              "        }#T_e4d4d496_e8eb_11eb_bb7b_0242ac1c0002row1_col0,#T_e4d4d496_e8eb_11eb_bb7b_0242ac1c0002row6_col1{\n",
              "            background-color:  #fc8565;\n",
              "            color:  #000000;\n",
              "        }#T_e4d4d496_e8eb_11eb_bb7b_0242ac1c0002row1_col1,#T_e4d4d496_e8eb_11eb_bb7b_0242ac1c0002row6_col0{\n",
              "            background-color:  #f34a36;\n",
              "            color:  #000000;\n",
              "            background-color:  green;\n",
              "        }#T_e4d4d496_e8eb_11eb_bb7b_0242ac1c0002row2_col0{\n",
              "            background-color:  #ee3a2c;\n",
              "            color:  #f1f1f1;\n",
              "            background-color:  green;\n",
              "        }#T_e4d4d496_e8eb_11eb_bb7b_0242ac1c0002row2_col1{\n",
              "            background-color:  #fc9373;\n",
              "            color:  #000000;\n",
              "        }#T_e4d4d496_e8eb_11eb_bb7b_0242ac1c0002row3_col0{\n",
              "            background-color:  #e43027;\n",
              "            color:  #f1f1f1;\n",
              "            background-color:  green;\n",
              "        }#T_e4d4d496_e8eb_11eb_bb7b_0242ac1c0002row3_col1{\n",
              "            background-color:  #fc9e80;\n",
              "            color:  #000000;\n",
              "        }#T_e4d4d496_e8eb_11eb_bb7b_0242ac1c0002row5_col0{\n",
              "            background-color:  #e63328;\n",
              "            color:  #f1f1f1;\n",
              "            background-color:  green;\n",
              "        }#T_e4d4d496_e8eb_11eb_bb7b_0242ac1c0002row5_col1{\n",
              "            background-color:  #fc9c7d;\n",
              "            color:  #000000;\n",
              "        }#T_e4d4d496_e8eb_11eb_bb7b_0242ac1c0002row7_col0{\n",
              "            background-color:  #c8171c;\n",
              "            color:  #f1f1f1;\n",
              "            background-color:  green;\n",
              "        }#T_e4d4d496_e8eb_11eb_bb7b_0242ac1c0002row7_col1{\n",
              "            background-color:  #fcbea5;\n",
              "            color:  #000000;\n",
              "        }#T_e4d4d496_e8eb_11eb_bb7b_0242ac1c0002row8_col0{\n",
              "            background-color:  #fb7252;\n",
              "            color:  #000000;\n",
              "        }#T_e4d4d496_e8eb_11eb_bb7b_0242ac1c0002row8_col1{\n",
              "            background-color:  #f96044;\n",
              "            color:  #000000;\n",
              "            background-color:  green;\n",
              "        }#T_e4d4d496_e8eb_11eb_bb7b_0242ac1c0002row9_col0{\n",
              "            background-color:  #fa6849;\n",
              "            color:  #000000;\n",
              "            background-color:  green;\n",
              "        }#T_e4d4d496_e8eb_11eb_bb7b_0242ac1c0002row9_col1{\n",
              "            background-color:  #fb6c4c;\n",
              "            color:  #000000;\n",
              "        }</style><table id=\"T_e4d4d496_e8eb_11eb_bb7b_0242ac1c0002\" ><thead>    <tr>        <th class=\"blank level0\" ></th>        <th class=\"col_heading level0 col0\" >0</th>        <th class=\"col_heading level0 col1\" >1</th>    </tr></thead><tbody>\n",
              "                <tr>\n",
              "                        <th id=\"T_e4d4d496_e8eb_11eb_bb7b_0242ac1c0002level0_row0\" class=\"row_heading level0 row0\" >0</th>\n",
              "                        <td id=\"T_e4d4d496_e8eb_11eb_bb7b_0242ac1c0002row0_col0\" class=\"data row0 col0\" >0.000000</td>\n",
              "                        <td id=\"T_e4d4d496_e8eb_11eb_bb7b_0242ac1c0002row0_col1\" class=\"data row0 col1\" >100.000000</td>\n",
              "            </tr>\n",
              "            <tr>\n",
              "                        <th id=\"T_e4d4d496_e8eb_11eb_bb7b_0242ac1c0002level0_row1\" class=\"row_heading level0 row1\" >1</th>\n",
              "                        <td id=\"T_e4d4d496_e8eb_11eb_bb7b_0242ac1c0002row1_col0\" class=\"data row1 col0\" >41.771158</td>\n",
              "                        <td id=\"T_e4d4d496_e8eb_11eb_bb7b_0242ac1c0002row1_col1\" class=\"data row1 col1\" >58.228842</td>\n",
              "            </tr>\n",
              "            <tr>\n",
              "                        <th id=\"T_e4d4d496_e8eb_11eb_bb7b_0242ac1c0002level0_row2\" class=\"row_heading level0 row2\" >2</th>\n",
              "                        <td id=\"T_e4d4d496_e8eb_11eb_bb7b_0242ac1c0002row2_col0\" class=\"data row2 col0\" >62.771710</td>\n",
              "                        <td id=\"T_e4d4d496_e8eb_11eb_bb7b_0242ac1c0002row2_col1\" class=\"data row2 col1\" >37.228290</td>\n",
              "            </tr>\n",
              "            <tr>\n",
              "                        <th id=\"T_e4d4d496_e8eb_11eb_bb7b_0242ac1c0002level0_row3\" class=\"row_heading level0 row3\" >3</th>\n",
              "                        <td id=\"T_e4d4d496_e8eb_11eb_bb7b_0242ac1c0002row3_col0\" class=\"data row3 col0\" >66.400731</td>\n",
              "                        <td id=\"T_e4d4d496_e8eb_11eb_bb7b_0242ac1c0002row3_col1\" class=\"data row3 col1\" >33.599269</td>\n",
              "            </tr>\n",
              "            <tr>\n",
              "                        <th id=\"T_e4d4d496_e8eb_11eb_bb7b_0242ac1c0002level0_row4\" class=\"row_heading level0 row4\" >4</th>\n",
              "                        <td id=\"T_e4d4d496_e8eb_11eb_bb7b_0242ac1c0002row4_col0\" class=\"data row4 col0\" >100.000000</td>\n",
              "                        <td id=\"T_e4d4d496_e8eb_11eb_bb7b_0242ac1c0002row4_col1\" class=\"data row4 col1\" >0.000000</td>\n",
              "            </tr>\n",
              "            <tr>\n",
              "                        <th id=\"T_e4d4d496_e8eb_11eb_bb7b_0242ac1c0002level0_row5\" class=\"row_heading level0 row5\" >5</th>\n",
              "                        <td id=\"T_e4d4d496_e8eb_11eb_bb7b_0242ac1c0002row5_col0\" class=\"data row5 col0\" >65.345771</td>\n",
              "                        <td id=\"T_e4d4d496_e8eb_11eb_bb7b_0242ac1c0002row5_col1\" class=\"data row5 col1\" >34.654229</td>\n",
              "            </tr>\n",
              "            <tr>\n",
              "                        <th id=\"T_e4d4d496_e8eb_11eb_bb7b_0242ac1c0002level0_row6\" class=\"row_heading level0 row6\" >6</th>\n",
              "                        <td id=\"T_e4d4d496_e8eb_11eb_bb7b_0242ac1c0002row6_col0\" class=\"data row6 col0\" >58.431685</td>\n",
              "                        <td id=\"T_e4d4d496_e8eb_11eb_bb7b_0242ac1c0002row6_col1\" class=\"data row6 col1\" >41.568315</td>\n",
              "            </tr>\n",
              "            <tr>\n",
              "                        <th id=\"T_e4d4d496_e8eb_11eb_bb7b_0242ac1c0002level0_row7\" class=\"row_heading level0 row7\" >7</th>\n",
              "                        <td id=\"T_e4d4d496_e8eb_11eb_bb7b_0242ac1c0002row7_col0\" class=\"data row7 col0\" >75.915798</td>\n",
              "                        <td id=\"T_e4d4d496_e8eb_11eb_bb7b_0242ac1c0002row7_col1\" class=\"data row7 col1\" >24.084202</td>\n",
              "            </tr>\n",
              "            <tr>\n",
              "                        <th id=\"T_e4d4d496_e8eb_11eb_bb7b_0242ac1c0002level0_row8\" class=\"row_heading level0 row8\" >8</th>\n",
              "                        <td id=\"T_e4d4d496_e8eb_11eb_bb7b_0242ac1c0002row8_col0\" class=\"data row8 col0\" >47.511309</td>\n",
              "                        <td id=\"T_e4d4d496_e8eb_11eb_bb7b_0242ac1c0002row8_col1\" class=\"data row8 col1\" >52.488691</td>\n",
              "            </tr>\n",
              "            <tr>\n",
              "                        <th id=\"T_e4d4d496_e8eb_11eb_bb7b_0242ac1c0002level0_row9\" class=\"row_heading level0 row9\" >9</th>\n",
              "                        <td id=\"T_e4d4d496_e8eb_11eb_bb7b_0242ac1c0002row9_col0\" class=\"data row9 col0\" >50.516790</td>\n",
              "                        <td id=\"T_e4d4d496_e8eb_11eb_bb7b_0242ac1c0002row9_col1\" class=\"data row9 col1\" >49.483210</td>\n",
              "            </tr>\n",
              "    </tbody></table>"
            ],
            "text/plain": [
              "<pandas.io.formats.style.Styler at 0x7f616e1d7dd0>"
            ]
          },
          "metadata": {
            "tags": []
          },
          "execution_count": 23
        }
      ]
    },
    {
      "cell_type": "code",
      "metadata": {
        "colab": {
          "base_uri": "https://localhost:8080/",
          "height": 449
        },
        "id": "u-MYmb4Ti1gT",
        "outputId": "e8b9e6e1-acb1-4ac1-8439-9ed11847b467"
      },
      "source": [
        "matrixKNN = confusion_matrix(y_test, predictions_KNN) \n",
        "# Summary of the predictions made by the classifier\n",
        "print(classification_report(y_test, predictions_KNN))\n",
        "# Accuracy score\n",
        "print('Accuracy: %.2f' % accuracy_score(predictions_KNN,y_test))\n",
        "\n",
        "sns.heatmap(matrixKNN.T, square=True, annot=True, fmt='d', cbar=False)\n",
        "plt.xlabel('Clase de test')\n",
        "plt.ylabel('Clase de la predicción');"
      ],
      "execution_count": null,
      "outputs": [
        {
          "output_type": "stream",
          "text": [
            "              precision    recall  f1-score   support\n",
            "\n",
            "           0       0.81      0.79      0.80       224\n",
            "           1       0.82      0.84      0.83       256\n",
            "\n",
            "    accuracy                           0.82       480\n",
            "   macro avg       0.82      0.82      0.82       480\n",
            "weighted avg       0.82      0.82      0.82       480\n",
            "\n",
            "Accuracy: 0.82\n"
          ],
          "name": "stdout"
        },
        {
          "output_type": "display_data",
          "data": {
            "image/png": "[encoded data removed]",
            "text/plain": [
              "<Figure size 432x288 with 1 Axes>"
            ]
          },
          "metadata": {
            "tags": [],
            "needs_background": "light"
          }
        }
      ]
    },
    {
      "cell_type": "code",
      "metadata": {
        "colab": {
          "base_uri": "https://localhost:8080/",
          "height": 485
        },
        "id": "vIh0QKvxpW7J",
        "outputId": "3c514d46-325b-4ae9-9ced-295fa0fc4b19"
      },
      "source": [
        "acc_KNN,pre_KNN,rec_KNN = get_classification_report(y_test,predictions_KNN)"
      ],
      "execution_count": null,
      "outputs": [
        {
          "output_type": "stream",
          "text": [
            "              precision    recall  f1-score   support\n",
            "\n",
            "           0      0.809     0.795     0.802       224\n",
            "           1      0.823     0.836     0.829       256\n",
            "\n",
            "    accuracy                          0.817       480\n",
            "   macro avg      0.816     0.815     0.816       480\n",
            "weighted avg      0.817     0.817     0.817       480\n",
            "\n",
            "Overall Accuracy: 0.8166666666666667\n",
            "Overall Precision: 0.8160839160839161\n",
            "Overall Recall: 0.8152901785714286\n"
          ],
          "name": "stdout"
        },
        {
          "output_type": "display_data",
          "data": {
            "image/png": "[encoded data removed]",
            "text/plain": [
              "<Figure size 432x288 with 2 Axes>"
            ]
          },
          "metadata": {
            "tags": [],
            "needs_background": "light"
          }
        }
      ]
    },
    {
      "cell_type": "code",
      "metadata": {
        "colab": {
          "base_uri": "https://localhost:8080/",
          "height": 279
        },
        "id": "rcHamrfApW7J",
        "outputId": "0165255f-ccf7-41da-be3b-e2002be4c453"
      },
      "source": [
        "auc_KNN = get_classification_ROC(X_test,y_test,model_KNN_with_best_params,test_size=0.3,random_state=0)"
      ],
      "execution_count": null,
      "outputs": [
        {
          "output_type": "display_data",
          "data": {
            "image/png": "[encoded data removed]",
            "text/plain": [
              "<Figure size 432x288 with 1 Axes>"
            ]
          },
          "metadata": {
            "tags": [],
            "needs_background": "light"
          }
        }
      ]
    },
    {
      "cell_type": "markdown",
      "metadata": {
        "id": "TRpvLWaKLXoA"
      },
      "source": [
        "RESUMEN\n",
        "\n",
        "con k = 48\n",
        "- Accuracy: 0.79\n",
        "- Loss: 0.21\n",
        "\n",
        "con k = 1\n",
        "- Accuracy: 0.71\n",
        "- Loss: 0.29 \n",
        "\n"
      ]
    }
  ]
}